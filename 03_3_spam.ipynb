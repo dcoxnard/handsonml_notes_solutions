{
 "cells": [
  {
   "cell_type": "code",
   "execution_count": 92,
   "metadata": {},
   "outputs": [],
   "source": [
    "import os\n",
    "import glob\n",
    "import time\n",
    "\n",
    "import numpy as np\n",
    "import pandas as pd\n",
    "import matplotlib.pyplot as plt\n",
    "from sklearn import feature_extraction, model_selection, naive_bayes, metrics\n",
    "%matplotlib inline"
   ]
  },
  {
   "cell_type": "code",
   "execution_count": 8,
   "metadata": {},
   "outputs": [],
   "source": [
    "data_dir = os.path.join(\"datasets\", \"spam_emails\")\n",
    "spam_dir = os.path.join(data_dir, \"spam\")\n",
    "hardham_dir = os.path.join(data_dir, \"hard_ham\")\n",
    "easyham_dir = os.path.join(data_dir, \"easy_ham\")"
   ]
  },
  {
   "cell_type": "code",
   "execution_count": 64,
   "metadata": {
    "scrolled": true
   },
   "outputs": [],
   "source": [
    "acc = {\n",
    "    \"spam\": {\n",
    "        \"datadirs\": [spam_dir],\n",
    "        \"text_accumulator\": [],\n",
    "        \"response\": 1\n",
    "    },\n",
    "    \"ham\": {\n",
    "        \"datadirs\": [hardham_dir, easyham_dir],\n",
    "        \"text_accumulator\": [],\n",
    "        \"response\": 0\n",
    "    }\n",
    "}\n",
    "undecoded = {\"spam\": [], \"ham\": []}\n",
    "\n",
    "for datatype, container in acc.items():\n",
    "    for ddir in container[\"datadirs\"]:\n",
    "        filenames = glob.glob(os.path.join(ddir, \"*\"))\n",
    "        for i, filename in enumerate(filenames):\n",
    "            try:\n",
    "                with open(filename, \"r\", encoding=\"ascii\", errors=\"surrogateescape\") as f_obj:\n",
    "                    lines = f_obj.readlines()\n",
    "                    txt = ''.join(lines)\n",
    "                    txt = ' '.join(txt.split())\n",
    "            except UnicodeDecodeError:\n",
    "                try:\n",
    "                    with open(filename, \"rb\") as f_obj:\n",
    "                        lines = f_obj.readlines()\n",
    "                        lines = [s.decode('windows-1252') for s in lines]\n",
    "                        txt = ''.join(lines)\n",
    "                        txt = ' '.join(txt.split())\n",
    "                except Exception as e:\n",
    "                    undecoded[datatype].append(i)\n",
    "            container[\"text_accumulator\"].append(txt)"
   ]
  },
  {
   "cell_type": "code",
   "execution_count": 68,
   "metadata": {
    "scrolled": false
   },
   "outputs": [],
   "source": [
    "all_emails = acc[\"spam\"][\"text_accumulator\"] + acc[\"ham\"][\"text_accumulator\"]\n",
    "targets = [1] * len(acc[\"spam\"][\"text_accumulator\"]) + [0] * len(acc[\"ham\"][\"text_accumulator\"])"
   ]
  },
  {
   "cell_type": "code",
   "execution_count": 112,
   "metadata": {},
   "outputs": [],
   "source": [
    "test_size = 0.2\n",
    "\n",
    "stratshuf = model_selection.StratifiedShuffleSplit(n_splits=1, test_size=test_size)\n",
    "train_ix, test_ix = next(stratshuf.split(all_emails, targets))\n",
    "\n",
    "X_train = [all_emails[ix] for ix in train_ix]\n",
    "y_train = [targets[ix] for ix in train_ix]\n",
    "X_test = [all_emails[ix] for ix in test_ix]\n",
    "y_test = [targets[ix] for ix in test_ix]\n",
    "\n",
    "vec = feature_extraction.text.CountVectorizer()\n",
    "X_train = vec.fit_transform(X_train).toarray()\n",
    "X_test = vec.transform(X_test).toarray()\n",
    "\n",
    "y_train = np.array(y_train)\n",
    "y_test = np.array(y_test)"
   ]
  },
  {
   "cell_type": "code",
   "execution_count": 130,
   "metadata": {},
   "outputs": [
    {
     "data": {
      "text/plain": [
       "BernoulliNB(alpha=1.0, binarize=0.0, class_prior=None, fit_prior=True)"
      ]
     },
     "execution_count": 130,
     "metadata": {},
     "output_type": "execute_result"
    }
   ],
   "source": [
    "nb_clf = naive_bayes.BernoulliNB()\n",
    "nb_clf.fit(X_train, y_train)"
   ]
  },
  {
   "cell_type": "code",
   "execution_count": 133,
   "metadata": {},
   "outputs": [
    {
     "name": "stdout",
     "output_type": "stream",
     "text": [
      "Accuracy is 87.59%\n"
     ]
    }
   ],
   "source": [
    "y_pred = nb_clf.predict(X_test)\n",
    "accuracy = metrics.accuracy_score(y_test, y_pred)\n",
    "print(f\"Accuracy is {round(accuracy*100, 2)}%\")"
   ]
  }
 ],
 "metadata": {
  "kernelspec": {
   "display_name": "homl",
   "language": "python",
   "name": "homl"
  },
  "language_info": {
   "codemirror_mode": {
    "name": "ipython",
    "version": 3
   },
   "file_extension": ".py",
   "mimetype": "text/x-python",
   "name": "python",
   "nbconvert_exporter": "python",
   "pygments_lexer": "ipython3",
   "version": "3.8.3"
  }
 },
 "nbformat": 4,
 "nbformat_minor": 4
}
