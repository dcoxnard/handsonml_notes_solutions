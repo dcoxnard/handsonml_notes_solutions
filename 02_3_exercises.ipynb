{
 "cells": [
  {
   "cell_type": "code",
   "execution_count": null,
   "metadata": {},
   "outputs": [],
   "source": [
    "import os\n",
    "import numpy as np\n",
    "import pandas as pd\n",
    "from sklearn import svm, model_selection, \\\n",
    "    impute, base, pipeline, preprocessing, \\\n",
    "    compose\n",
    "import matplotlib.pyplot as plt\n",
    "%matplotlib inline"
   ]
  },
  {
   "cell_type": "code",
   "execution_count": 2,
   "metadata": {},
   "outputs": [],
   "source": [
    "HOUSING_PATH = os.path.join(\"datasets\", \"housing\")"
   ]
  },
  {
   "cell_type": "code",
   "execution_count": 3,
   "metadata": {},
   "outputs": [],
   "source": [
    "def load_housing_data(housing_path=HOUSING_PATH):\n",
    "    csv_path = os.path.join(housing_path, \"housing.csv\")\n",
    "    return pd.read_csv(csv_path)"
   ]
  },
  {
   "cell_type": "code",
   "execution_count": 4,
   "metadata": {},
   "outputs": [],
   "source": [
    "housing = load_housing_data()"
   ]
  },
  {
   "cell_type": "code",
   "execution_count": 5,
   "metadata": {},
   "outputs": [],
   "source": [
    "bins = [0, 1.5, 3, 4.5, 6, np.inf]\n",
    "labels = range(len(bins) - 1)\n",
    "housing[\"income_cat\"] = pd.cut(housing[\"median_income\"], bins=bins, labels=labels)"
   ]
  },
  {
   "cell_type": "code",
   "execution_count": 6,
   "metadata": {},
   "outputs": [],
   "source": [
    "kwargs = {\n",
    "    \"n_splits\": 1,\n",
    "    \"test_size\": 0.2,\n",
    "    \"random_state\": 42\n",
    "}\n",
    "splitter = model_selection.StratifiedShuffleSplit(**kwargs)\n",
    "splits = splitter.split(housing, housing[\"income_cat\"])"
   ]
  },
  {
   "cell_type": "code",
   "execution_count": 7,
   "metadata": {},
   "outputs": [],
   "source": [
    "for train_ix, test_ix in splits:\n",
    "    train_raw = housing.loc[train_ix]\n",
    "    test = housing.loc[test_ix]"
   ]
  },
  {
   "cell_type": "code",
   "execution_count": 8,
   "metadata": {},
   "outputs": [],
   "source": [
    "train_raw = train_raw.drop(\"income_cat\", axis=1)\n",
    "test_raw = test.drop(\"income_cat\", axis=1)"
   ]
  },
  {
   "cell_type": "code",
   "execution_count": 9,
   "metadata": {},
   "outputs": [],
   "source": [
    "housing[\"rooms_per_household\"] = housing[\"total_rooms\"] / housing[\"households\"]\n",
    "housing[\"bedrooms_per_room\"] = housing[\"total_bedrooms\"] / housing[\"total_rooms\"]\n",
    "housing[\"population_per_household\"] = housing[\"population\"] / housing[\"households\"]"
   ]
  },
  {
   "cell_type": "code",
   "execution_count": 10,
   "metadata": {},
   "outputs": [],
   "source": [
    "rooms_ix, bedrooms_ix, population_ix, households_ix = 3, 4, 5, 6\n",
    "\n",
    "class CombinedAttributesAdder(base.BaseEstimator, base.TransformerMixin):\n",
    "    \n",
    "    def __init__(self, add_bedrooms_per_room=True):\n",
    "        self.add_bedrooms_per_room = add_bedrooms_per_room\n",
    "    \n",
    "    def fit(self, X, y=None):\n",
    "        return self\n",
    "    \n",
    "    def transform(self, X):\n",
    "        rooms_per_household = X[:, rooms_ix] / X[:, households_ix]\n",
    "        population_per_household = X[:, population_ix] / X[:, households_ix]\n",
    "        args = [X, rooms_per_household, population_per_household]\n",
    "        if self.add_bedrooms_per_room:\n",
    "            bedrooms_per_room = X[:, bedrooms_ix] / X[:, rooms_ix]\n",
    "            return np.c_[X, rooms_per_household, population_per_household, bedrooms_per_room]\n",
    "        else:\n",
    "            return np.c_[X, rooms_per_household, population_per_household]"
   ]
  },
  {
   "cell_type": "code",
   "execution_count": 12,
   "metadata": {},
   "outputs": [],
   "source": [
    "tgt = \"median_house_value\"\n",
    "\n",
    "train_raw_X = train_raw.drop(tgt, axis=1)\n",
    "train_y = train_raw[tgt]\n",
    "\n",
    "test_raw_X = test_raw.drop(tgt, axis=1)\n",
    "test_y = test_raw[tgt]"
   ]
  },
  {
   "cell_type": "code",
   "execution_count": 13,
   "metadata": {
    "scrolled": false
   },
   "outputs": [],
   "source": [
    "num_pipeline = pipeline.Pipeline([\n",
    "    (\"imputer\", impute.SimpleImputer(strategy=\"median\")),\n",
    "    (\"attribs_adder\", CombinedAttributesAdder()),\n",
    "    (\"std_scalar\", preprocessing.StandardScaler())\n",
    "])\n",
    "\n",
    "cat_ftrs = [\"ocean_proximity\"]\n",
    "num_ftrs = [c for c in train_raw_X.columns if c not in cat_ftrs]\n",
    "\n",
    "full_pipe = compose.ColumnTransformer([\n",
    "    (\"num\", num_pipeline, num_ftrs),\n",
    "    (\"cat\", preprocessing.OneHotEncoder(), cat_ftrs)\n",
    "])"
   ]
  },
  {
   "cell_type": "code",
   "execution_count": 14,
   "metadata": {
    "scrolled": false
   },
   "outputs": [],
   "source": [
    "train_X = full_pipe.fit_transform(train_raw_X)"
   ]
  },
  {
   "cell_type": "markdown",
   "metadata": {},
   "source": [
    "## 1."
   ]
  },
  {
   "cell_type": "code",
   "execution_count": 15,
   "metadata": {},
   "outputs": [],
   "source": [
    "svr = svm.SVR()\n",
    "\n",
    "scoring = \"neg_mean_squared_error\"\n",
    "scores = model_selection.cross_val_score(svr, train_X, train_y,\n",
    "                                        scoring=scoring, cv=10)\n",
    "rmse_scores = np.sqrt(-scores)"
   ]
  },
  {
   "cell_type": "code",
   "execution_count": 17,
   "metadata": {},
   "outputs": [
    {
     "name": "stdout",
     "output_type": "stream",
     "text": [
      "RMSE of SVR: 118573.0\n"
     ]
    }
   ],
   "source": [
    "print(f\"RMSE of SVR: {round(rmse_scores.mean())}\")"
   ]
  },
  {
   "cell_type": "code",
   "execution_count": 24,
   "metadata": {},
   "outputs": [
    {
     "data": {
      "text/plain": [
       "GridSearchCV(cv=5, error_score=nan,\n",
       "             estimator=SVR(C=1.0, cache_size=200, coef0=0.0, degree=3,\n",
       "                           epsilon=0.1, gamma='scale', kernel='rbf',\n",
       "                           max_iter=-1, shrinking=True, tol=0.001,\n",
       "                           verbose=False),\n",
       "             iid='deprecated', n_jobs=None,\n",
       "             param_grid=[{'C': [0.1, 1, 10], 'kernel': ['linear']},\n",
       "                         {'C': [0.1, 1, 10], 'kernel': ['rbf']}],\n",
       "             pre_dispatch='2*n_jobs', refit=True, return_train_score=True,\n",
       "             scoring='neg_mean_squared_error', verbose=0)"
      ]
     },
     "execution_count": 24,
     "metadata": {},
     "output_type": "execute_result"
    }
   ],
   "source": [
    "param_grid = [\n",
    "    {\"kernel\": [\"linear\"], \"C\": [.1, 1, 10]},\n",
    "    {\"kernel\": [\"rbf\"], \"C\": [.1, 1, 10]}\n",
    "]\n",
    "svr = svm.SVR()\n",
    "scoring = \"neg_mean_squared_error\"\n",
    "grid_search = model_selection.GridSearchCV(svr, param_grid,\n",
    "                                          scoring=scoring,\n",
    "                                          cv=5,\n",
    "                                           return_train_score=True)\n",
    "grid_search.fit(train_X, train_y)"
   ]
  },
  {
   "cell_type": "code",
   "execution_count": 25,
   "metadata": {},
   "outputs": [
    {
     "data": {
      "text/plain": [
       "{'mean_fit_time': array([5.76298113, 5.82682843, 5.39119024, 9.26442766, 9.63506465,\n",
       "        9.32847109]),\n",
       " 'mean_score_time': array([0.6355165 , 0.6418973 , 0.61636577, 1.36435928, 1.3173573 ,\n",
       "        1.32326155]),\n",
       " 'mean_test_score': array([-1.39828181e+10, -1.26724517e+10, -7.16634195e+09, -1.41354200e+10,\n",
       "        -1.40734826e+10, -1.34843917e+10]),\n",
       " 'mean_train_score': array([-1.39795414e+10, -1.26673216e+10, -7.15976614e+09, -1.41323297e+10,\n",
       "        -1.40702598e+10, -1.34807727e+10]),\n",
       " 'param_C': masked_array(data=[0.1, 1, 10, 0.1, 1, 10],\n",
       "              mask=[False, False, False, False, False, False],\n",
       "        fill_value='?',\n",
       "             dtype=object),\n",
       " 'param_kernel': masked_array(data=['linear', 'linear', 'linear', 'rbf', 'rbf', 'rbf'],\n",
       "              mask=[False, False, False, False, False, False],\n",
       "        fill_value='?',\n",
       "             dtype=object),\n",
       " 'params': [{'C': 0.1, 'kernel': 'linear'},\n",
       "  {'C': 1, 'kernel': 'linear'},\n",
       "  {'C': 10, 'kernel': 'linear'},\n",
       "  {'C': 0.1, 'kernel': 'rbf'},\n",
       "  {'C': 1, 'kernel': 'rbf'},\n",
       "  {'C': 10, 'kernel': 'rbf'}],\n",
       " 'rank_test_score': array([4, 2, 1, 6, 5, 3]),\n",
       " 'split0_test_score': array([-1.32563552e+10, -1.20021148e+10, -6.81009404e+09, -1.33934075e+10,\n",
       "        -1.33357809e+10, -1.27701933e+10]),\n",
       " 'split0_train_score': array([-1.41139841e+10, -1.27634043e+10, -7.21221802e+09, -1.42600478e+10,\n",
       "        -1.42000994e+10, -1.36094784e+10]),\n",
       " 'split1_test_score': array([-1.39795672e+10, -1.26387274e+10, -7.07487497e+09, -1.41502061e+10,\n",
       "        -1.40819428e+10, -1.34856647e+10]),\n",
       " 'split1_train_score': array([-1.39381647e+10, -1.26375293e+10, -7.15291015e+09, -1.41043819e+10,\n",
       "        -1.40353839e+10, -1.34367554e+10]),\n",
       " 'split2_test_score': array([-1.43177745e+10, -1.29891797e+10, -7.39952946e+09, -1.44698579e+10,\n",
       "        -1.44130061e+10, -1.38190170e+10]),\n",
       " 'split2_train_score': array([-1.39235341e+10, -1.26203344e+10, -7.11341660e+09, -1.40730250e+10,\n",
       "        -1.40159409e+10, -1.34228407e+10]),\n",
       " 'split3_test_score': array([-1.42190833e+10, -1.28658043e+10, -7.06070632e+09, -1.43737191e+10,\n",
       "        -1.43080022e+10, -1.37070252e+10]),\n",
       " 'split3_train_score': array([-1.39459390e+10, -1.26591810e+10, -7.24043142e+09, -1.40937604e+10,\n",
       "        -1.40301083e+10, -1.34483397e+10]),\n",
       " 'split4_test_score': array([-1.41413100e+10, -1.28664324e+10, -7.48650496e+09, -1.42899095e+10,\n",
       "        -1.42286811e+10, -1.36400582e+10]),\n",
       " 'split4_train_score': array([-1.39760852e+10, -1.26561591e+10, -7.07985455e+09, -1.41304335e+10,\n",
       "        -1.40697666e+10, -1.34864491e+10]),\n",
       " 'std_fit_time': array([0.12543596, 0.24296078, 0.08232506, 0.33092691, 0.37178133,\n",
       "        0.07892549]),\n",
       " 'std_score_time': array([0.0568142 , 0.05110519, 0.01103687, 0.17389601, 0.05889384,\n",
       "        0.03741612]),\n",
       " 'std_test_score': array([3.79709289e+08, 3.53785016e+08, 2.46299997e+08, 3.85565399e+08,\n",
       "        3.84353357e+08, 3.73055684e+08]),\n",
       " 'std_train_score': array([69375443.48553862, 50036254.85151391, 59731455.35911248,\n",
       "        66484910.12308334, 67286837.50785397, 67739086.35172945])}"
      ]
     },
     "execution_count": 25,
     "metadata": {},
     "output_type": "execute_result"
    }
   ],
   "source": [
    "grid_search.cv_results_"
   ]
  },
  {
   "cell_type": "code",
   "execution_count": 28,
   "metadata": {},
   "outputs": [
    {
     "data": {
      "text/plain": [
       "SVR(C=10, cache_size=200, coef0=0.0, degree=3, epsilon=0.1, gamma='scale',\n",
       "    kernel='linear', max_iter=-1, shrinking=True, tol=0.001, verbose=False)"
      ]
     },
     "execution_count": 28,
     "metadata": {},
     "output_type": "execute_result"
    }
   ],
   "source": [
    "grid_search.best_estimator_"
   ]
  },
  {
   "cell_type": "code",
   "execution_count": 43,
   "metadata": {},
   "outputs": [
    {
     "name": "stdout",
     "output_type": "stream",
     "text": [
      "RMSE: 111520.0\n"
     ]
    }
   ],
   "source": [
    "scores = grid_search.cv_results_[\"mean_test_score\"]\n",
    "rmse_scores = np.sqrt(-scores)\n",
    "print(f\"RMSE: {round(rmse_scores.mean())}\")"
   ]
  },
  {
   "cell_type": "markdown",
   "metadata": {},
   "source": [
    "## 2."
   ]
  },
  {
   "cell_type": "code",
   "execution_count": null,
   "metadata": {},
   "outputs": [],
   "source": []
  }
 ],
 "metadata": {
  "kernelspec": {
   "display_name": "homl",
   "language": "python",
   "name": "homl"
  },
  "language_info": {
   "codemirror_mode": {
    "name": "ipython",
    "version": 3
   },
   "file_extension": ".py",
   "mimetype": "text/x-python",
   "name": "python",
   "nbconvert_exporter": "python",
   "pygments_lexer": "ipython3",
   "version": "3.6.10"
  }
 },
 "nbformat": 4,
 "nbformat_minor": 2
}
