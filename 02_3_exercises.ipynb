{
 "cells": [
  {
   "cell_type": "code",
   "execution_count": 149,
   "metadata": {},
   "outputs": [],
   "source": [
    "import os\n",
    "import numpy as np\n",
    "import pandas as pd\n",
    "from sklearn import svm, model_selection, \\\n",
    "    impute, base, pipeline, preprocessing, \\\n",
    "    compose, ensemble\n",
    "import matplotlib.pyplot as plt\n",
    "%matplotlib inline"
   ]
  },
  {
   "cell_type": "markdown",
   "metadata": {},
   "source": [
    "# Data Prep"
   ]
  },
  {
   "cell_type": "code",
   "execution_count": 19,
   "metadata": {},
   "outputs": [],
   "source": [
    "HOUSING_PATH = os.path.join(\"datasets\", \"housing\")"
   ]
  },
  {
   "cell_type": "code",
   "execution_count": 20,
   "metadata": {},
   "outputs": [],
   "source": [
    "def load_housing_data(housing_path=HOUSING_PATH):\n",
    "    csv_path = os.path.join(housing_path, \"housing.csv\")\n",
    "    return pd.read_csv(csv_path)"
   ]
  },
  {
   "cell_type": "code",
   "execution_count": 21,
   "metadata": {},
   "outputs": [],
   "source": [
    "housing = load_housing_data()"
   ]
  },
  {
   "cell_type": "code",
   "execution_count": 22,
   "metadata": {},
   "outputs": [],
   "source": [
    "bins = [0, 1.5, 3, 4.5, 6, np.inf]\n",
    "labels = range(len(bins) - 1)\n",
    "housing[\"income_cat\"] = pd.cut(housing[\"median_income\"], bins=bins, labels=labels)"
   ]
  },
  {
   "cell_type": "code",
   "execution_count": 23,
   "metadata": {},
   "outputs": [],
   "source": [
    "kwargs = {\n",
    "    \"n_splits\": 1,\n",
    "    \"test_size\": 0.2,\n",
    "    \"random_state\": 42\n",
    "}\n",
    "splitter = model_selection.StratifiedShuffleSplit(**kwargs)\n",
    "splits = splitter.split(housing, housing[\"income_cat\"])"
   ]
  },
  {
   "cell_type": "code",
   "execution_count": 24,
   "metadata": {},
   "outputs": [],
   "source": [
    "for train_ix, test_ix in splits:\n",
    "    train_raw = housing.loc[train_ix]\n",
    "    test = housing.loc[test_ix]"
   ]
  },
  {
   "cell_type": "code",
   "execution_count": 25,
   "metadata": {},
   "outputs": [],
   "source": [
    "train_raw = train_raw.drop(\"income_cat\", axis=1)\n",
    "test_raw = test.drop(\"income_cat\", axis=1)"
   ]
  },
  {
   "cell_type": "code",
   "execution_count": 26,
   "metadata": {},
   "outputs": [],
   "source": [
    "housing[\"rooms_per_household\"] = housing[\"total_rooms\"] / housing[\"households\"]\n",
    "housing[\"bedrooms_per_room\"] = housing[\"total_bedrooms\"] / housing[\"total_rooms\"]\n",
    "housing[\"population_per_household\"] = housing[\"population\"] / housing[\"households\"]"
   ]
  },
  {
   "cell_type": "code",
   "execution_count": 59,
   "metadata": {},
   "outputs": [],
   "source": [
    "rooms_ix, bedrooms_ix, population_ix, households_ix = 3, 4, 5, 6\n",
    "\n",
    "class CombinedAttributesAdder(base.BaseEstimator, base.TransformerMixin):\n",
    "    \n",
    "    def __init__(self, add_bedrooms_per_room=True):\n",
    "        self.add_bedrooms_per_room = add_bedrooms_per_room\n",
    "    \n",
    "    def fit(self, X, y=None):\n",
    "        return self\n",
    "    \n",
    "    def transform(self, X):\n",
    "        rooms_per_household = X[:, rooms_ix] / X[:, households_ix]\n",
    "        population_per_household = X[:, population_ix] / X[:, households_ix]\n",
    "        args = [X, rooms_per_household, population_per_household]\n",
    "        if self.add_bedrooms_per_room:\n",
    "            bedrooms_per_room = X[:, bedrooms_ix] / X[:, rooms_ix]\n",
    "            return np.c_[X, rooms_per_household, population_per_household, bedrooms_per_room]\n",
    "        else:\n",
    "            return np.c_[X, rooms_per_household, population_per_household]\n",
    "        \n",
    "    def get_added_ftrs(self):\n",
    "        ret = [\"rooms_per_hh\", \"pop_per_hh\"]\n",
    "        if self.add_bedrooms_per_room:\n",
    "            ret.append(\"beds_per_room\")\n",
    "        return ret"
   ]
  },
  {
   "cell_type": "code",
   "execution_count": 60,
   "metadata": {},
   "outputs": [],
   "source": [
    "tgt = \"median_house_value\"\n",
    "\n",
    "train_raw_X = train_raw.drop(tgt, axis=1)\n",
    "train_y = train_raw[tgt]\n",
    "\n",
    "test_raw_X = test_raw.drop(tgt, axis=1)\n",
    "test_y = test_raw[tgt]"
   ]
  },
  {
   "cell_type": "code",
   "execution_count": 61,
   "metadata": {
    "scrolled": false
   },
   "outputs": [],
   "source": [
    "num_pipeline = pipeline.Pipeline([\n",
    "    (\"imputer\", impute.SimpleImputer(strategy=\"median\")),\n",
    "    (\"attribs_adder\", CombinedAttributesAdder()),\n",
    "    (\"std_scalar\", preprocessing.StandardScaler())\n",
    "])\n",
    "\n",
    "cat_ftrs = [\"ocean_proximity\"]\n",
    "num_ftrs = [c for c in train_raw_X.columns if c not in cat_ftrs]\n",
    "\n",
    "full_pipe = compose.ColumnTransformer([\n",
    "    (\"num\", num_pipeline, num_ftrs),\n",
    "    (\"cat\", preprocessing.OneHotEncoder(), cat_ftrs)\n",
    "])"
   ]
  },
  {
   "cell_type": "code",
   "execution_count": 62,
   "metadata": {
    "scrolled": false
   },
   "outputs": [],
   "source": [
    "train_X = full_pipe.fit_transform(train_raw_X)"
   ]
  },
  {
   "cell_type": "markdown",
   "metadata": {},
   "source": [
    "## 1."
   ]
  },
  {
   "cell_type": "code",
   "execution_count": 15,
   "metadata": {},
   "outputs": [],
   "source": [
    "svr = svm.SVR()\n",
    "\n",
    "scoring = \"neg_mean_squared_error\"\n",
    "scores = model_selection.cross_val_score(svr, train_X, train_y,\n",
    "                                        scoring=scoring, cv=10)\n",
    "rmse_scores = np.sqrt(-scores)"
   ]
  },
  {
   "cell_type": "code",
   "execution_count": 17,
   "metadata": {},
   "outputs": [
    {
     "name": "stdout",
     "output_type": "stream",
     "text": [
      "RMSE of SVR: 118573.0\n"
     ]
    }
   ],
   "source": [
    "print(f\"RMSE of SVR: {round(rmse_scores.mean())}\")"
   ]
  },
  {
   "cell_type": "code",
   "execution_count": 24,
   "metadata": {},
   "outputs": [
    {
     "data": {
      "text/plain": [
       "GridSearchCV(cv=5, error_score=nan,\n",
       "             estimator=SVR(C=1.0, cache_size=200, coef0=0.0, degree=3,\n",
       "                           epsilon=0.1, gamma='scale', kernel='rbf',\n",
       "                           max_iter=-1, shrinking=True, tol=0.001,\n",
       "                           verbose=False),\n",
       "             iid='deprecated', n_jobs=None,\n",
       "             param_grid=[{'C': [0.1, 1, 10], 'kernel': ['linear']},\n",
       "                         {'C': [0.1, 1, 10], 'kernel': ['rbf']}],\n",
       "             pre_dispatch='2*n_jobs', refit=True, return_train_score=True,\n",
       "             scoring='neg_mean_squared_error', verbose=0)"
      ]
     },
     "execution_count": 24,
     "metadata": {},
     "output_type": "execute_result"
    }
   ],
   "source": [
    "param_grid = [\n",
    "    {\"kernel\": [\"linear\"], \"C\": [.1, 1, 10]},\n",
    "    {\"kernel\": [\"rbf\"], \"C\": [.1, 1, 10]}\n",
    "]\n",
    "svr = svm.SVR()\n",
    "scoring = \"neg_mean_squared_error\"\n",
    "grid_search = model_selection.GridSearchCV(svr, param_grid,\n",
    "                                          scoring=scoring,\n",
    "                                          cv=5,\n",
    "                                           return_train_score=True)\n",
    "grid_search.fit(train_X, train_y)"
   ]
  },
  {
   "cell_type": "code",
   "execution_count": 28,
   "metadata": {},
   "outputs": [
    {
     "data": {
      "text/plain": [
       "SVR(C=10, cache_size=200, coef0=0.0, degree=3, epsilon=0.1, gamma='scale',\n",
       "    kernel='linear', max_iter=-1, shrinking=True, tol=0.001, verbose=False)"
      ]
     },
     "execution_count": 28,
     "metadata": {},
     "output_type": "execute_result"
    }
   ],
   "source": [
    "grid_search.best_estimator_"
   ]
  },
  {
   "cell_type": "code",
   "execution_count": 43,
   "metadata": {},
   "outputs": [
    {
     "name": "stdout",
     "output_type": "stream",
     "text": [
      "RMSE: 111520.0\n"
     ]
    }
   ],
   "source": [
    "scores = grid_search.cv_results_[\"mean_test_score\"]\n",
    "rmse_scores = np.sqrt(-scores)\n",
    "print(f\"RMSE: {round(rmse_scores.mean())}\")"
   ]
  },
  {
   "cell_type": "markdown",
   "metadata": {},
   "source": [
    "## 2."
   ]
  },
  {
   "cell_type": "code",
   "execution_count": 31,
   "metadata": {},
   "outputs": [
    {
     "data": {
      "text/plain": [
       "RandomizedSearchCV(cv=5, error_score=nan,\n",
       "                   estimator=SVR(C=1.0, cache_size=200, coef0=0.0, degree=3,\n",
       "                                 epsilon=0.1, gamma='scale', kernel='rbf',\n",
       "                                 max_iter=-1, shrinking=True, tol=0.001,\n",
       "                                 verbose=False),\n",
       "                   iid='deprecated', n_iter=1, n_jobs=None,\n",
       "                   param_distributions=[{'C': [0.1, 1, 10],\n",
       "                                         'kernel': ['linear']},\n",
       "                                        {'C': [0.1, 1, 10], 'kernel': ['rbf']}],\n",
       "                   pre_dispatch='2*n_jobs', random_state=None, refit=True,\n",
       "                   return_train_score=False, scoring='neg_mean_squared_error',\n",
       "                   verbose=0)"
      ]
     },
     "execution_count": 31,
     "metadata": {},
     "output_type": "execute_result"
    }
   ],
   "source": [
    "param_grid = [\n",
    "    {\"kernel\": [\"linear\"], \"C\": [.1, 1, 10]},\n",
    "    {\"kernel\": [\"rbf\"], \"C\": [.1, 1, 10]}\n",
    "]\n",
    "svr = svm.SVR()\n",
    "scoring = \"neg_mean_squared_error\"\n",
    "n_iter = 1  # Due to runtime considerations\n",
    "random_search = model_selection.RandomizedSearchCV(svr, param_grid,\n",
    "                                                   scoring=scoring,\n",
    "                                                   cv=5, n_iter=n_iter)\n",
    "random_search.fit(train_X, train_y)"
   ]
  },
  {
   "cell_type": "code",
   "execution_count": 33,
   "metadata": {},
   "outputs": [
    {
     "name": "stdout",
     "output_type": "stream",
     "text": [
      "RMSE: 116122.0\n"
     ]
    }
   ],
   "source": [
    "scores = random_search.cv_results_[\"mean_test_score\"]\n",
    "rmse_scores = np.sqrt(-scores)\n",
    "print(f\"RMSE: {round(rmse_scores.mean())}\")"
   ]
  },
  {
   "cell_type": "markdown",
   "metadata": {},
   "source": [
    "## 3."
   ]
  },
  {
   "cell_type": "code",
   "execution_count": 37,
   "metadata": {},
   "outputs": [
    {
     "data": {
      "text/plain": [
       "RandomForestRegressor(bootstrap=True, ccp_alpha=0.0, criterion='mse',\n",
       "                      max_depth=None, max_features='auto', max_leaf_nodes=None,\n",
       "                      max_samples=None, min_impurity_decrease=0.0,\n",
       "                      min_impurity_split=None, min_samples_leaf=1,\n",
       "                      min_samples_split=2, min_weight_fraction_leaf=0.0,\n",
       "                      n_estimators=100, n_jobs=None, oob_score=False,\n",
       "                      random_state=None, verbose=0, warm_start=False)"
      ]
     },
     "execution_count": 37,
     "metadata": {},
     "output_type": "execute_result"
    }
   ],
   "source": [
    "# Use a model that gives an indication of \n",
    "# feature importance to get the list of features\n",
    "forest = ensemble.RandomForestRegressor()\n",
    "forest.fit(train_X, train_y)"
   ]
  },
  {
   "cell_type": "code",
   "execution_count": 80,
   "metadata": {},
   "outputs": [],
   "source": [
    "num_ftrs = full_pipe.transformers_[0][2]\n",
    "cat_ftrs = full_pipe.named_transformers_[\"cat\"].categories_[0].tolist()\n",
    "added_ftrs = full_pipe.named_transformers_[\"num\"].named_steps[\"attribs_adder\"].get_added_ftrs()\n",
    "all_ftrs = num_ftrs + cat_ftrs + added_ftrs"
   ]
  },
  {
   "cell_type": "code",
   "execution_count": 86,
   "metadata": {
    "scrolled": true
   },
   "outputs": [
    {
     "name": "stdout",
     "output_type": "stream",
     "text": [
      "===FEATURE IMPORTANCES===\n",
      "median_income: 0.472\n",
      "NEAR OCEAN: 0.141\n",
      "INLAND: 0.122\n",
      "longitude: 0.059\n",
      "latitude: 0.056\n",
      "housing_median_age: 0.045\n",
      "<1H OCEAN: 0.028\n",
      "ISLAND: 0.023\n",
      "total_rooms: 0.013\n",
      "households: 0.013\n",
      "total_bedrooms: 0.012\n",
      "population: 0.012\n",
      "beds_per_room: 0.002\n",
      "NEAR BAY: 0.001\n",
      "pop_per_hh: 0.001\n",
      "rooms_per_hh: 0.0\n"
     ]
    }
   ],
   "source": [
    "ftr_imp = list(zip(all_ftrs, forest.feature_importances_))\n",
    "print(\"===FEATURE IMPORTANCES===\")\n",
    "for ftr, imp in sorted(ftr_imp, key=lambda x: x[1], reverse=True):\n",
    "    print(f\"{ftr}: {round(imp, 3)}\")"
   ]
  },
  {
   "cell_type": "code",
   "execution_count": 89,
   "metadata": {},
   "outputs": [],
   "source": [
    "# Take just the top 3\n",
    "top_n = 3\n",
    "top_ftrs = sorted(ftr_imp, key=lambda x: x[1], reverse=True)[:top_n]\n",
    "top_ftrs = [x[0] for x in top_ftrs]"
   ]
  },
  {
   "cell_type": "code",
   "execution_count": 103,
   "metadata": {},
   "outputs": [],
   "source": [
    "ixs = [all_ftrs.index(ftr) for ftr in top_ftrs]"
   ]
  },
  {
   "cell_type": "code",
   "execution_count": 113,
   "metadata": {},
   "outputs": [],
   "source": [
    "# Cutting some corners on hardcoded-ness and state reachout\n",
    "class SpecificFeatureExtrator(base.BaseEstimator, base.TransformerMixin):\n",
    "    def __init__(self, ixs=ixs):\n",
    "        if isinstance(ixs, int):\n",
    "            ixs = [ixs]\n",
    "        self.ixs = ixs\n",
    "    \n",
    "    def fit(self, X, y=None):\n",
    "        return self\n",
    "    \n",
    "    def transform(self, X):\n",
    "        X_proj = X[:, self.ixs]\n",
    "        return X_proj"
   ]
  },
  {
   "cell_type": "code",
   "execution_count": 117,
   "metadata": {
    "scrolled": false
   },
   "outputs": [],
   "source": [
    "extractor_pipe = pipeline.Pipeline([\n",
    "    (\"trafo\", full_pipe),\n",
    "    (\"picker\", SpecificFeatureExtrator(ixs=ixs)),\n",
    "])\n",
    "train_X_new = extractor_pipe.fit_transform(train_raw_X)"
   ]
  },
  {
   "cell_type": "code",
   "execution_count": 119,
   "metadata": {},
   "outputs": [
    {
     "data": {
      "text/plain": [
       "RandomForestRegressor(bootstrap=True, ccp_alpha=0.0, criterion='mse',\n",
       "                      max_depth=None, max_features='auto', max_leaf_nodes=None,\n",
       "                      max_samples=None, min_impurity_decrease=0.0,\n",
       "                      min_impurity_split=None, min_samples_leaf=1,\n",
       "                      min_samples_split=2, min_weight_fraction_leaf=0.0,\n",
       "                      n_estimators=100, n_jobs=None, oob_score=False,\n",
       "                      random_state=None, verbose=0, warm_start=False)"
      ]
     },
     "execution_count": 119,
     "metadata": {},
     "output_type": "execute_result"
    }
   ],
   "source": [
    "forest = ensemble.RandomForestRegressor()"
   ]
  },
  {
   "cell_type": "code",
   "execution_count": 120,
   "metadata": {},
   "outputs": [],
   "source": [
    "scoring = \"neg_mean_squared_error\"\n",
    "scores = model_selection.cross_val_score(forest, train_X_new, train_y,\n",
    "                                         scoring=scoring, cv=5)"
   ]
  },
  {
   "cell_type": "code",
   "execution_count": 125,
   "metadata": {},
   "outputs": [
    {
     "name": "stdout",
     "output_type": "stream",
     "text": [
      "RMSE: 70941.0\n"
     ]
    }
   ],
   "source": [
    "rmse_scores = np.sqrt(-scores)\n",
    "print(f\"RMSE: {round(rmse_scores.mean())}\")"
   ]
  },
  {
   "cell_type": "markdown",
   "metadata": {},
   "source": [
    "# 4."
   ]
  },
  {
   "cell_type": "code",
   "execution_count": 161,
   "metadata": {},
   "outputs": [],
   "source": [
    "# A pipeline that does everything,\n",
    "# i.e. transformation and prediction\n",
    "model = ensemble.RandomForestRegressor()\n",
    "end2end = pipeline.Pipeline([\n",
    "    (\"trafo\", full_pipe),\n",
    "    (\"est\", model)\n",
    "])"
   ]
  },
  {
   "cell_type": "code",
   "execution_count": 146,
   "metadata": {},
   "outputs": [
    {
     "data": {
      "text/plain": [
       "Pipeline(memory=None,\n",
       "         steps=[('transformations',\n",
       "                 ColumnTransformer(n_jobs=None, remainder='drop',\n",
       "                                   sparse_threshold=0.3,\n",
       "                                   transformer_weights=None,\n",
       "                                   transformers=[('num',\n",
       "                                                  Pipeline(memory=None,\n",
       "                                                           steps=[('imputer',\n",
       "                                                                   SimpleImputer(add_indicator=False,\n",
       "                                                                                 copy=True,\n",
       "                                                                                 fill_value=None,\n",
       "                                                                                 missing_values=nan,\n",
       "                                                                                 strategy='median',\n",
       "                                                                                 verbose=0)),\n",
       "                                                                  ('attribs_adder',\n",
       "                                                                   CombinedAttributesAdder(...\n",
       "                 RandomForestRegressor(bootstrap=True, ccp_alpha=0.0,\n",
       "                                       criterion='mse', max_depth=None,\n",
       "                                       max_features='auto', max_leaf_nodes=None,\n",
       "                                       max_samples=None,\n",
       "                                       min_impurity_decrease=0.0,\n",
       "                                       min_impurity_split=None,\n",
       "                                       min_samples_leaf=1, min_samples_split=2,\n",
       "                                       min_weight_fraction_leaf=0.0,\n",
       "                                       n_estimators=100, n_jobs=None,\n",
       "                                       oob_score=False, random_state=None,\n",
       "                                       verbose=0, warm_start=False))],\n",
       "         verbose=False)"
      ]
     },
     "execution_count": 146,
     "metadata": {},
     "output_type": "execute_result"
    }
   ],
   "source": [
    "end2end.fit(train_raw_X, train_y)"
   ]
  },
  {
   "cell_type": "code",
   "execution_count": 147,
   "metadata": {},
   "outputs": [],
   "source": [
    "predictions = end2end.predict(test_raw_X)"
   ]
  },
  {
   "cell_type": "code",
   "execution_count": 148,
   "metadata": {},
   "outputs": [
    {
     "data": {
      "text/plain": [
       "48518.59031044192"
      ]
     },
     "execution_count": 148,
     "metadata": {},
     "output_type": "execute_result"
    }
   ],
   "source": [
    "rmse = np.sqrt(np.mean((test_y - predictions) ** 2))\n",
    "rmse"
   ]
  },
  {
   "cell_type": "markdown",
   "metadata": {},
   "source": [
    "# 5."
   ]
  },
  {
   "cell_type": "code",
   "execution_count": 172,
   "metadata": {
    "scrolled": false
   },
   "outputs": [
    {
     "data": {
      "text/plain": [
       "GridSearchCV(cv=5, error_score=nan,\n",
       "             estimator=Pipeline(memory=None,\n",
       "                                steps=[('trafo',\n",
       "                                        ColumnTransformer(n_jobs=None,\n",
       "                                                          remainder='drop',\n",
       "                                                          sparse_threshold=0.3,\n",
       "                                                          transformer_weights=None,\n",
       "                                                          transformers=[('num',\n",
       "                                                                         Pipeline(memory=None,\n",
       "                                                                                  steps=[('imputer',\n",
       "                                                                                          SimpleImputer(add_indicator=False,\n",
       "                                                                                                        copy=True,\n",
       "                                                                                                        fill_value=None,\n",
       "                                                                                                        missing_values=nan,\n",
       "                                                                                                        strategy='median',\n",
       "                                                                                                        verbose=0)),\n",
       "                                                                                         ('attri...\n",
       "                                                              min_samples_split=2,\n",
       "                                                              min_weight_fraction_leaf=0.0,\n",
       "                                                              n_estimators=100,\n",
       "                                                              n_jobs=None,\n",
       "                                                              oob_score=False,\n",
       "                                                              random_state=None,\n",
       "                                                              verbose=0,\n",
       "                                                              warm_start=False))],\n",
       "                                verbose=False),\n",
       "             iid='deprecated', n_jobs=None,\n",
       "             param_grid=[{'trafo__num__imputer__strategy': ['median', 'mean']}],\n",
       "             pre_dispatch='2*n_jobs', refit=True, return_train_score=False,\n",
       "             scoring='neg_mean_squared_error', verbose=0)"
      ]
     },
     "execution_count": 172,
     "metadata": {},
     "output_type": "execute_result"
    }
   ],
   "source": [
    "scoring = \"neg_mean_squared_error\"\n",
    "param_grid = [\n",
    "    {\"trafo__num__imputer__strategy\": [\"median\", \"mean\"]}\n",
    "]\n",
    "grid_search = model_selection.GridSearchCV(end2end, param_grid,\n",
    "                                           scoring=scoring, cv=5)\n",
    "grid_search.fit(train_raw_X, train_y)"
   ]
  },
  {
   "cell_type": "code",
   "execution_count": 183,
   "metadata": {
    "scrolled": false
   },
   "outputs": [
    {
     "data": {
      "text/plain": [
       "'median'"
      ]
     },
     "execution_count": 183,
     "metadata": {},
     "output_type": "execute_result"
    }
   ],
   "source": [
    "grid_search.best_estimator_.get_params()[\"trafo__num__imputer\"].get_params()[\"strategy\"]"
   ]
  }
 ],
 "metadata": {
  "kernelspec": {
   "display_name": "homl",
   "language": "python",
   "name": "homl"
  },
  "language_info": {
   "codemirror_mode": {
    "name": "ipython",
    "version": 3
   },
   "file_extension": ".py",
   "mimetype": "text/x-python",
   "name": "python",
   "nbconvert_exporter": "python",
   "pygments_lexer": "ipython3",
   "version": "3.6.10"
  }
 },
 "nbformat": 4,
 "nbformat_minor": 2
}
