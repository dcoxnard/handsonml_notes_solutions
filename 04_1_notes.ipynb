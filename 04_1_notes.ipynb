{
 "cells": [
  {
   "cell_type": "code",
   "execution_count": 27,
   "metadata": {},
   "outputs": [],
   "source": [
    "import numpy as np\n",
    "import matplotlib.pyplot as plt\n",
    "from sklearn.linear_model import LinearRegression, SGDRegressor, Ridge, Lasso, ElasticNet\n",
    "from sklearn.preprocessing import PolynomialFeatures\n",
    "from sklearn.metrics import mean_squared_error\n",
    "from sklearn.model_selection import train_test_split\n",
    "from sklearn.pipeline import Pipeline\n",
    "%matplotlib inline"
   ]
  },
  {
   "cell_type": "markdown",
   "metadata": {},
   "source": [
    "# Chapter 4: Traning Models"
   ]
  },
  {
   "cell_type": "markdown",
   "metadata": {},
   "source": [
    "- *Why understand the math behind machine learnings models?* (Q)\n",
    "    - Quickly hone in on appropriate algorithms, or discard inappropriate ones\n",
    "    - Easily narrow down the search space of hyperparameters\n",
    "    - UNderstand debugging and model analysis"
   ]
  },
  {
   "cell_type": "markdown",
   "metadata": {},
   "source": [
    "# Linear Regression"
   ]
  },
  {
   "cell_type": "markdown",
   "metadata": {},
   "source": [
    "- Linear Regression is a conceptually simple model that predicts by computing a weighted sum of the input features, plus offset\n",
    "    - $\\hat{y} = \\theta_0 + \\theta_1 x_1 + \\theta_2 x_2 + ... + \\theta_n x_n $\n",
    "    - Or, more compactly, $\\hat{y} = h_\\theta(\\mathbf{x}) = \\pmb{\\theta} \\cdot \\pmb{x} = \\pmb{\\theta}^\\intercal \\pmb{x} $\n",
    "        - 1st feature in the $\\pmb{x}$ vector is always 1, to create the offset\n",
    "        - $h_\\theta(\\pmb{x})$ is the hypothesis function, which describes the target as a function of the features\n",
    "        - The value of $ \\pmb{\\theta} $ that minimizes the RMSE gives the model with best fit\n",
    "        - In practice, it is easier to minimize the MSE instead of the RMSE.  This gives the same reuslt"
   ]
  },
  {
   "cell_type": "markdown",
   "metadata": {},
   "source": [
    "- Mean Squared Error (MSE) is a measure of the average \"miss\" of the predictions from the ground truth:\n",
    "$$ MSE(\\pmb{X}, h_\\theta) = \\frac{1}{m} \\sum_{i=1}^{m} (\\pmb{\\theta}^\\intercal \\pmb{x}_i - y_i )^{2} $$"
   ]
  },
  {
   "cell_type": "markdown",
   "metadata": {},
   "source": [
    "- Root Mean Squared Error (RMSE) is simply the square root of the MSE:\n",
    "$$ RMSE(\\pmb{X}, h_\\theta) = \\sqrt{MSE(\\pmb{X}, h_\\theta)} $$"
   ]
  },
  {
   "cell_type": "markdown",
   "metadata": {},
   "source": [
    "- *In what situation would you train a machine learning model with a different loss function than the function used to evaluate model performance?* (Q)\n",
    "    - A different function might be easier/quicker to compute, such as using MSE instead of RMSE to fit a Linear Regression model\n",
    "    - A different function might be easier to differentiate\n",
    "    - In order to contrain the model, such as in a regularization setting"
   ]
  },
  {
   "cell_type": "markdown",
   "metadata": {},
   "source": [
    "- The *Normal Equation* gives the closed-form solution to the optimization problem:\n",
    "$$ \\hat{\\pmb{\\theta}} = (\\pmb{X}^\\intercal \\pmb{X})^{-1} \\pmb{X}^\\intercal \\pmb{y} $$"
   ]
  },
  {
   "cell_type": "code",
   "execution_count": 2,
   "metadata": {},
   "outputs": [
    {
     "data": {
      "image/png": "[encoded data removed]",
      "text/plain": [
       "<Figure size 432x288 with 1 Axes>"
      ]
     },
     "metadata": {},
     "output_type": "display_data"
    }
   ],
   "source": [
    "# An example\n",
    "X = 2 * np.random.rand(100, 1)\n",
    "y = 4 + 3 * X + np.random.randn(100, 1)  # Normally distributed noise\n",
    "\n",
    "plt.scatter(X, y);"
   ]
  },
  {
   "cell_type": "code",
   "execution_count": 3,
   "metadata": {},
   "outputs": [],
   "source": [
    "# Compute the solution using the normal equation.\n",
    "# This implementation calls out the fact that the solution\n",
    "# is achieved with a chain of matrix multiplications\n",
    "\n",
    "X_withbias = np.c_[np.ones(X.shape), X]\n",
    "theta_hat = np.linalg.inv(X_withbias.T.dot(X_withbias)).dot(X_withbias.T).dot(y)  # Normal equation"
   ]
  },
  {
   "cell_type": "code",
   "execution_count": 4,
   "metadata": {},
   "outputs": [
    {
     "data": {
      "text/plain": [
       "array([[3.95520859],\n",
       "       [2.87232069]])"
      ]
     },
     "execution_count": 4,
     "metadata": {},
     "output_type": "execute_result"
    }
   ],
   "source": [
    "# theta_hat is close to, but doens't precisely equal, the\n",
    "# values hardcoded in the cell above.\n",
    "theta_hat"
   ]
  },
  {
   "cell_type": "code",
   "execution_count": 5,
   "metadata": {},
   "outputs": [],
   "source": [
    "X_new = np.array([[0], [2]])\n",
    "X_new_withbias = np.c_[np.ones(X_new.shape), X_new]\n",
    "y_pred = X_new_withbias.dot(theta_hat)"
   ]
  },
  {
   "cell_type": "code",
   "execution_count": 6,
   "metadata": {},
   "outputs": [
    {
     "data": {
      "image/png": "[encoded data removed]",
      "text/plain": [
       "<Figure size 432x288 with 1 Axes>"
      ]
     },
     "metadata": {},
     "output_type": "display_data"
    }
   ],
   "source": [
    "plt.scatter(X, y)\n",
    "plt.plot(X_new, y_pred, color=\"red\");"
   ]
  },
  {
   "cell_type": "code",
   "execution_count": 7,
   "metadata": {},
   "outputs": [
    {
     "data": {
      "text/plain": [
       "LinearRegression(copy_X=True, fit_intercept=True, n_jobs=None, normalize=False)"
      ]
     },
     "execution_count": 7,
     "metadata": {},
     "output_type": "execute_result"
    }
   ],
   "source": [
    "# Another example, this time using sklearn\n",
    "lin_reg = LinearRegression()\n",
    "lin_reg.fit(X, y)"
   ]
  },
  {
   "cell_type": "code",
   "execution_count": 8,
   "metadata": {},
   "outputs": [
    {
     "data": {
      "text/plain": [
       "(array([[2.87232069]]), array([3.95520859]))"
      ]
     },
     "execution_count": 8,
     "metadata": {},
     "output_type": "execute_result"
    }
   ],
   "source": [
    "# Again, the learned parameters approximate, but don't equal,\n",
    "# the hardcoded values.\n",
    "lin_reg.coef_, lin_reg.intercept_"
   ]
  },
  {
   "cell_type": "code",
   "execution_count": 9,
   "metadata": {},
   "outputs": [
    {
     "data": {
      "text/plain": [
       "array([[3.95520859],\n",
       "       [2.87232069]])"
      ]
     },
     "execution_count": 9,
     "metadata": {},
     "output_type": "execute_result"
    }
   ],
   "source": [
    "# Finally, another example using numpy, which the sklearn\n",
    "# implementation is based on.\n",
    "theta_hat_svd, resid, rank, s = np.linalg.lstsq(X_withbias, y, rcond=1e-6)\n",
    "theta_hat_svd"
   ]
  },
  {
   "cell_type": "markdown",
   "metadata": {},
   "source": [
    "- The last example computes the Moore-Penrose (pseudo-)inverse of $\\pmb{X}$:\n",
    "    - $ \\hat{\\pmb{\\theta}} = \\pmb{X}^{+}\\pmb{y} $\n",
    "    - Can be computed directly with `np.linalg.pinv(X_withbias).dot(y)`\n",
    "    - Moorse-Penrose inverse is calculated using SVD\n",
    "        - $ \\pmb{U} \\pmb{\\Sigma} \\pmb{V}^\\intercal $\n",
    "        - `np.linalg.svd()`\n",
    "        - Computed by taking SVD of $\\pmb{X}$, set all small values in $\\pmb{\\Sigma}$ to zero, invert all its nonzero values, then transpose to get $ \\pmb{U} \\pmb{\\Sigma}^{+} \\pmb{V}^\\intercal $\n",
    "    - This is more efficient than copmuting the normal equation\n",
    "    - More robust to cases where $ \\pmb{X}^\\intercal \\pmb{X} $ cannot be inverted (i.e. it's singular)\n",
    "        - Such as $n_{cols} > n_{rows}$ or in multicollinearity setting"
   ]
  },
  {
   "cell_type": "markdown",
   "metadata": {},
   "source": [
    "- Computational complexity of the Moore-Penrose approach is better than the Normal Equation approach\n",
    "    - Moore-Penrose approach used by `sklearn` is about $O(n^2)$\n",
    "    - Inversion of an $(n+1) \\times (n+1)$ matrix as in the normal equation is about $O(n^{2.4})$ to $O(n^3)$\n",
    "    - Efficiency of both approaches deteriorates in high dimensions\n",
    "    - Linear in the number of rows, so both approaches work well with large datasets\n",
    "    - Predictions are fast once model has been trained: linear w.r.t. both number of features and rows"
   ]
  },
  {
   "cell_type": "markdown",
   "metadata": {},
   "source": [
    "## Gradient Descent"
   ]
  },
  {
   "cell_type": "markdown",
   "metadata": {
    "collapsed": true
   },
   "source": [
    "- In addition to the analytic method described above, a gradient descent-based method can be used\n",
    "- Gradient descent is a generic algorithm that can be used to find an optimum solution to many problems\n",
    "- The idea is to iteratively update model parameters in such a way that the loss is progressively minimized\n",
    "- Step size, i.e. learning rate, is an important parameter in the algorithm\n",
    "    - Too-large step size can cause the algorithm to diverge\n",
    "    - Too-small step size lengthens the time needed to converge\n",
    "    - In practice, learning rate is progressively decreased to better \"hone in\" on an optimum\n",
    "- Number of iterations must also be set well\n",
    "    - Too low and the algorithm won't yet have arrived at the optimum\n",
    "    - Too high is inefficient once the parameters stop changing\n",
    "- In practice, it is useful to \"early stop\" the algorithm once the gradient gets very small, i.e. has a norm below $ \\epsilon $, the tolerance\n",
    "    - When the loss is convex, the alrogithm takes $ O(\\frac{1}{\\epsilon}) $ time to reach the optimum.  Dividing $\\epsilon$ by 10 increases can increase the time by a factor of 10."
   ]
  },
  {
   "cell_type": "markdown",
   "metadata": {},
   "source": [
    "- Gradient descent can't be guaranteed to find the global minimum in a complex loss landscape\n",
    "- However, if the loss function is convex, Gradient Descent will converge (given a not-too-large learning rate)"
   ]
  },
  {
   "cell_type": "markdown",
   "metadata": {},
   "source": [
    "- Gradient descent benefits from features being scaled, otherwise it can take longer to converge"
   ]
  },
  {
   "cell_type": "markdown",
   "metadata": {},
   "source": [
    "- To implement the Gradient Descent algorithmL\n",
    "    - Compute the gradient of the cost function w.r.t. each parameter $\\theta_j$\n",
    "        - In the linear regrerssion example, this is $$ \\frac{\\partial}{\\partial \\theta_j}MSE(\\pmb{\\theta}) = \\frac{2}{m}\\sum_{i=1}^{m} (\\pmb{\\theta}^\\intercal \\pmb{x}_i - y_i)x_{ij} $$\n",
    "        - This can be computed in one go: $$ \\nabla_{\\theta}MSE(\\pmb{\\theta}) = \\frac{2}{m}\\pmb{X}^\\intercal(\\pmb{X}\\pmb{\\theta} - \\pmb{y}) $$\n",
    "    - The gradient is a vector of partial derivatives, with length equal to the number of model parameters\n",
    "    - Note that this requires computing the gradient over the _entire_ training set at each step in the descent.  This is not very efficient, so there are modifications to the algorithm that give a speedup\n",
    "    - Finally, compute the next step in terms of the previous step: $$ \\pmb{\\theta}_{next} = \\pmb{\\theta} = \\eta\\nabla_{\\theta}MSE(\\pmb{\\theta}) $$"
   ]
  },
  {
   "cell_type": "code",
   "execution_count": 10,
   "metadata": {},
   "outputs": [
    {
     "data": {
      "text/plain": [
       "array([[3.95520859],\n",
       "       [2.87232069]])"
      ]
     },
     "execution_count": 10,
     "metadata": {},
     "output_type": "execute_result"
    }
   ],
   "source": [
    "eta = 0.1\n",
    "n_iterations = 1000\n",
    "m = 100\n",
    "\n",
    "theta = np.random.randn(2, 1)\n",
    "\n",
    "for iteration in range(n_iterations):\n",
    "    gradients = 2/m * X_withbias.T.dot(X_withbias.dot(theta) - y)\n",
    "    theta = theta - eta * gradients\n",
    "    \n",
    "theta"
   ]
  },
  {
   "cell_type": "markdown",
   "metadata": {},
   "source": [
    "- Stochastic Gradient Descent balances the advantages and disadvantages of calculating the gradient on the entire training data set\n",
    "    - Computationally expensive to use entire training set, but contains the most information possible\n",
    "    - SGD performs the process on a single training instance per iteration, instead of the entire training set\n",
    "    - Result is a faster algorithm, the speed of which comes at the cost of less reliable gradient information\n",
    "    - As a result, model loss is more likely to \"bounce around\" before settling at the optimum\n",
    "    - Also, the alrgorithm will stop close to, but not on the optimum point\n",
    "    - In practice, slowly decreasing the learning rate helps prevent the algorithm from jumping off the optimum by too much\n",
    "    - Too-fast reduction may result in the algorithm being stuck in a local minimum\n",
    "    - Too-slow reduction may reuslt in ending up fairly far from the actual optimum point"
   ]
  },
  {
   "cell_type": "code",
   "execution_count": 11,
   "metadata": {},
   "outputs": [],
   "source": [
    "# numpy implementation\n",
    "\n",
    "n_epochs = 50\n",
    "t0, t1 = 5, 50\n",
    "\n",
    "def learning_schedule(t):\n",
    "    return t0 / (t + t1)\n",
    "\n",
    "theta = np.random.randn(2, 1)\n",
    "\n",
    "for epoch in range(n_epochs):\n",
    "    for i in range(m):\n",
    "        random_index = np.random.randint(m)\n",
    "        xi = X_withbias[random_index:random_index+1]\n",
    "        yi = y[random_index:random_index+1]\n",
    "        gradients = 2 * xi.T.dot(xi.dot(theta) - yi)\n",
    "        eta = learning_schedule(epoch * m * i)\n",
    "        theta = theta - eta * gradients"
   ]
  },
  {
   "cell_type": "code",
   "execution_count": 12,
   "metadata": {},
   "outputs": [
    {
     "data": {
      "text/plain": [
       "array([[3.74427192],\n",
       "       [2.47650661]])"
      ]
     },
     "execution_count": 12,
     "metadata": {},
     "output_type": "execute_result"
    }
   ],
   "source": [
    "theta"
   ]
  },
  {
   "cell_type": "code",
   "execution_count": 13,
   "metadata": {},
   "outputs": [
    {
     "data": {
      "text/plain": [
       "SGDRegressor(alpha=0.0001, average=False, early_stopping=False, epsilon=0.1,\n",
       "             eta0=0.1, fit_intercept=True, l1_ratio=0.15,\n",
       "             learning_rate='invscaling', loss='squared_loss', max_iter=1000,\n",
       "             n_iter_no_change=5, penalty=None, power_t=0.25, random_state=None,\n",
       "             shuffle=True, tol=0.001, validation_fraction=0.1, verbose=0,\n",
       "             warm_start=False)"
      ]
     },
     "execution_count": 13,
     "metadata": {},
     "output_type": "execute_result"
    }
   ],
   "source": [
    "# sklearn's SGDRegression defaults to using MSE cost function\n",
    "\n",
    "sgd_reg = SGDRegressor(max_iter=1000, tol=1e-3, penalty=None, eta0=0.1)\n",
    "sgd_reg.fit(X, y.ravel())"
   ]
  },
  {
   "cell_type": "code",
   "execution_count": 14,
   "metadata": {},
   "outputs": [
    {
     "data": {
      "text/plain": [
       "(array([3.92360611]), array([2.85599294]))"
      ]
     },
     "execution_count": 14,
     "metadata": {},
     "output_type": "execute_result"
    }
   ],
   "source": [
    "sgd_reg.intercept_, sgd_reg.coef_"
   ]
  },
  {
   "cell_type": "markdown",
   "metadata": {},
   "source": [
    "- Minibatch Gradient Descent is a compromise between the efficieny of SGD and the quality of computing the gradient on the entire training set\n",
    "- Minibatch Gradient Descent selects a random \"mini-batch\" of training data at each iteration to compute the gradient"
   ]
  },
  {
   "cell_type": "markdown",
   "metadata": {},
   "source": [
    "## Polynomial Regression"
   ]
  },
  {
   "cell_type": "markdown",
   "metadata": {},
   "source": [
    "- Polynomial regression models the data as a curve, rather than a stright line\n",
    "- Adds higher-order features\n",
    "    - Enables the response to vary with a feature $x$, based on the current level of $x$"
   ]
  },
  {
   "cell_type": "code",
   "execution_count": 15,
   "metadata": {},
   "outputs": [],
   "source": [
    "# Some simulated data\n",
    "m = 100\n",
    "X = 6 * np.random.rand(m, 1) - 3\n",
    "y = 0.5 * X ** 2 + X + 2 + np.random.randn(m, 1)"
   ]
  },
  {
   "cell_type": "code",
   "execution_count": 16,
   "metadata": {},
   "outputs": [
    {
     "data": {
      "image/png": "[encoded data removed]",
      "text/plain": [
       "<Figure size 432x288 with 1 Axes>"
      ]
     },
     "metadata": {},
     "output_type": "display_data"
    }
   ],
   "source": [
    "plt.scatter(X, y);"
   ]
  },
  {
   "cell_type": "code",
   "execution_count": 17,
   "metadata": {},
   "outputs": [],
   "source": [
    "poly_features = PolynomialFeatures(degree=2, include_bias=False)\n",
    "X_poly = poly_features.fit_transform(X)"
   ]
  },
  {
   "cell_type": "code",
   "execution_count": 18,
   "metadata": {},
   "outputs": [
    {
     "data": {
      "text/plain": [
       "(array([2.05620339]), array([[1.12364823, 0.50838574]]))"
      ]
     },
     "execution_count": 18,
     "metadata": {},
     "output_type": "execute_result"
    }
   ],
   "source": [
    "lin_reg  = LinearRegression()\n",
    "lin_reg.fit(X_poly, y)\n",
    "lin_reg.intercept_, lin_reg.coef_"
   ]
  },
  {
   "cell_type": "code",
   "execution_count": 19,
   "metadata": {},
   "outputs": [
    {
     "data": {
      "image/png": "[encoded data removed]",
      "text/plain": [
       "<Figure size 432x288 with 1 Axes>"
      ]
     },
     "metadata": {},
     "output_type": "display_data"
    }
   ],
   "source": [
    "y_hat = lin_reg.predict(X_poly)\n",
    "ixs = X.T.argsort()[0]\n",
    "plt.plot(X[ixs], y_hat[ixs], color='red')\n",
    "plt.scatter(X, y);"
   ]
  },
  {
   "cell_type": "markdown",
   "metadata": {},
   "source": [
    "- Polynomial Regression can also be used to create interaction terms between the features\n",
    "- This is powerful but can result in combinatorial explosion\n",
    "    - A degree of `d` used on a dataset with `n` features will results in $\\frac{(n+d)!}{d!n!}$ features!"
   ]
  },
  {
   "cell_type": "markdown",
   "metadata": {},
   "source": [
    "- Learning Curves are another way to asses under/overfit of a model\n",
    "    - Plots the model's performance on the training set, as a function of $n$"
   ]
  },
  {
   "cell_type": "code",
   "execution_count": 20,
   "metadata": {},
   "outputs": [],
   "source": [
    "def plot_learning_curves(model, X, y, ymax=None):\n",
    "    X_train, X_val, y_train, y_val = train_test_split(X, y, test_size=0.2)\n",
    "    train_errors, val_errors = [], []\n",
    "    for m in range(1, len(X_train)):\n",
    "        model.fit(X_train[:m], y_train[:m])\n",
    "        y_train_predict = model.predict(X_train[:m])\n",
    "        y_val_predict = model.predict(X_val)\n",
    "        train_errors.append(mean_squared_error(y_train[:m], y_train_predict))\n",
    "        val_errors.append(mean_squared_error(y_val, y_val_predict))\n",
    "    if ymax is not None:\n",
    "        plt.ylim(0, ymax)\n",
    "    plt.plot(np.sqrt(train_errors), \"r-+\", linewidth=2, label=\"train\")\n",
    "    plt.plot(np.sqrt(val_errors), \"b-\", linewidth=3, label=\"val\")\n",
    "    plt.legend()"
   ]
  },
  {
   "cell_type": "markdown",
   "metadata": {},
   "source": [
    "Learning curve of a degree-1 Linear Regression"
   ]
  },
  {
   "cell_type": "code",
   "execution_count": 21,
   "metadata": {
    "scrolled": true
   },
   "outputs": [
    {
     "data": {
      "image/png": "[encoded data removed]",
      "text/plain": [
       "<Figure size 432x288 with 1 Axes>"
      ]
     },
     "metadata": {},
     "output_type": "display_data"
    }
   ],
   "source": [
    "lin_reg = LinearRegression()\n",
    "plot_learning_curves(lin_reg, X, y)"
   ]
  },
  {
   "cell_type": "markdown",
   "metadata": {},
   "source": [
    "- Characteristic of underfitting: both curves plateau at a high level, and close to each other\n",
    "- When model underfits, adding training data does not improve validation loss at all\n",
    "- Training loss curve grows from zero because it can fit very well when there are only a few data points.\n",
    "    - Stabilizes at the point at which adding data doesn't make th model any worse\n",
    "- Validation loss curve initially starts high because the model trained on little data generalizes very poorly\n",
    "    - Loss declines as generalization ability improves\n",
    "    - Stabilizes at a point where the model is too inflexible to generalize any more"
   ]
  },
  {
   "cell_type": "markdown",
   "metadata": {},
   "source": [
    "Learning Curve of a degree-10 Polynomial Regression"
   ]
  },
  {
   "cell_type": "code",
   "execution_count": 22,
   "metadata": {},
   "outputs": [],
   "source": [
    "poly_reg = Pipeline([\n",
    "    (\"poly_features\", PolynomialFeatures(degree=10, include_bias=False)),\n",
    "    (\"lin_reg\", LinearRegression())\n",
    "])"
   ]
  },
  {
   "cell_type": "code",
   "execution_count": 23,
   "metadata": {},
   "outputs": [
    {
     "data": {
      "image/png": "[encoded data removed]",
      "text/plain": [
       "<Figure size 432x288 with 1 Axes>"
      ]
     },
     "metadata": {},
     "output_type": "display_data"
    }
   ],
   "source": [
    "plot_learning_curves(poly_reg, X, y, ymax=3)"
   ]
  },
  {
   "cell_type": "markdown",
   "metadata": {},
   "source": [
    "- There are some telltale signs that this model is more flexible than the linear regression:\n",
    "    - The level of the training error is lower here than in the inflexible model\n",
    "    - The gap between the curves shows that the model performs much better on the training data then the validation set (overfitting)\n",
    "    - Using more data would tend to push the curves closer together"
   ]
  },
  {
   "cell_type": "markdown",
   "metadata": {},
   "source": [
    "- The Bias-Variance tradeoff states that a model's feneralization error can be decomposed into three:\n",
    "    - Bias: The inflexibility built into a model as the result of its assumptions about the data\n",
    "    - Variance: The error that comes from sensitivity to changes in the data as the result of being \"too\" flexible\n",
    "    - Irreducible error: Noise that can never be eliminated even with an oracle model\n",
    "- The tradeoff captures the notion that increasing a model's flexibility redues its bias while increasing its variance\n",
    "- Idea model minimizes the sum of (squared) bias and variance"
   ]
  },
  {
   "cell_type": "markdown",
   "metadata": {},
   "source": [
    "## Regularized Linear Models"
   ]
  },
  {
   "cell_type": "markdown",
   "metadata": {},
   "source": [
    "- Regularization is a general technique for contraining a model and thus reducing its susceptibility to overfitting\n",
    "- Operates by penalizing a more flexible model; induces model to add flexibility only \"where it really needs to\"\n",
    "- In linear models, a straightforward way to regularize is to penalize the magnitude of the weights\n",
    "    - Induces model to \"pick which weights matter the most\"\n",
    "    - Requires features to be scaled; differing scales of features will distort results\n",
    "    - Strength of penalty depends on a hyperparameter"
   ]
  },
  {
   "cell_type": "markdown",
   "metadata": {},
   "source": [
    "### Ridge Regression"
   ]
  },
  {
   "cell_type": "markdown",
   "metadata": {},
   "source": [
    "- Ridge Regression adds a penalty of $\\alpha\\sum_{i=1}^{n}\\theta_i^2$ to the cost function\n",
    "    - Larger weights add more to the cost function, quardratically\n",
    "    - $\\alpha$ controls the tradeoff between fit and penalty ($\\alpha=0$ reduces to unregularized model; high $\\alpha$ reduces flexbility)\n",
    "    - Induces the model to keep the weights as small as possible\n",
    "    - Results in a more stable model than unregularized model when some features are very highly correlated\n",
    "    - It only makes sense to use the penalty for training!  When evaluating the models performance, only makes sense to use the unregularized performance measure\n",
    "    - Does not make sense to regularize the bias term (note that the index starts at 1, not 0, below)\n",
    "    - Complete cost function: $$ J(\\pmb{\\theta}) = MSE(\\pmb{\\theta}) + \\alpha\\frac{1}{2}\\sum_{i=1}^{n}\\theta_i^2 $$\n",
    "    - Can also be represented as $$ \\frac{1}{2} \\|{ \\pmb{w} }\\|_2^2 $$\n",
    "    - Adds $\\alpha\\pmb{w}$ to the MSE gradient vector, if using gradient descent"
   ]
  },
  {
   "cell_type": "markdown",
   "metadata": {},
   "source": [
    "- Closed-form solution to Ridge equation is $$ \\hat{\\pmb{\\theta}} = (\\pmb{X}^\\intercal \\pmb{X} + \\alpha\\pmb{A})^{-1}\\pmb{X}^\\intercal \\pmb{y} $$\n",
    "    - The $\\alpha\\pmb{A}$ term is added over the vanilla model\n",
    "    - $\\pmb{A}$ is the identity matrix of dimension $(n+1)\\times(n+1)$, but with a zero in the top-left coner for the bias term"
   ]
  },
  {
   "cell_type": "code",
   "execution_count": 24,
   "metadata": {},
   "outputs": [
    {
     "data": {
      "text/plain": [
       "array([[5.39495461]])"
      ]
     },
     "execution_count": 24,
     "metadata": {},
     "output_type": "execute_result"
    }
   ],
   "source": [
    "# Solves the Ridge problem via the closed form solutions\n",
    "# Uses a matrix factorization technique from Cholesky\n",
    "ridge_reg = Ridge(alpha=1, solver=\"cholesky\")\n",
    "ridge_reg.fit(X, y)\n",
    "ridge_reg.predict([[1.5]])"
   ]
  },
  {
   "cell_type": "code",
   "execution_count": 25,
   "metadata": {},
   "outputs": [
    {
     "data": {
      "text/plain": [
       "array([5.38343427])"
      ]
     },
     "execution_count": 25,
     "metadata": {},
     "output_type": "execute_result"
    }
   ],
   "source": [
    "# Solves using Gradient Descent\n",
    "sgd_reg = SGDRegressor(penalty=\"l2\")\n",
    "sgd_reg.fit(X, y.ravel())\n",
    "sgd_reg.predict([[1.5]])"
   ]
  },
  {
   "cell_type": "markdown",
   "metadata": {},
   "source": [
    "### LASSO Regression"
   ]
  },
  {
   "cell_type": "markdown",
   "metadata": {},
   "source": [
    "- LASSO is a regularization technique that uses the $\\ell_1$ norm of the weights vector as the penalty, instead of the $\\ell_2$ norm\n",
    "    - \"Least Absolute Shrinkage and Selection Operator\"\n",
    "    - Complete cost function therefore is: $$ J(\\pmb{\\theta}) = MSE(\\pmb{\\theta}) + \\alpha\\sum_{i=1}^{n}|{\\theta_i}| $$\n",
    "    - A major difference compared to Ridge regression is what the weights are induced to do:\n",
    "        - Ridge penalty tends to result in weight being close to, but not exaclty, zero\n",
    "        - LASSO penalty pushes many weights to exactly zero\n",
    "        - For this reason, LASSO can serve as a method of automatic feature selection\n",
    "    - Less stable convergance than Ridge.  If using Gradient Descent, need to gradually reduce the learning rate"
   ]
  },
  {
   "cell_type": "markdown",
   "metadata": {},
   "source": [
    "- Due to the $\\ell_1$ norm term, the LASSO loss is not differentiable when a $\\theta_i = 0$.  Thus a subgradient vector is needed instead: $$ g(J, \\pmb{\\theta}) = \\nabla_{\\theta}MSE(\\pmb{\\theta}) + \\alpha\n",
    "  \\begin{align}\n",
    "    \\begin{bmatrix}\n",
    "           sign(\\theta_1) \\\\\n",
    "           sign(\\theta_2) \\\\\n",
    "           \\vdots \\\\\n",
    "           sign(\\theta_n)\n",
    "         \\end{bmatrix}\n",
    "  \\end{align} $$"
   ]
  },
  {
   "cell_type": "markdown",
   "metadata": {},
   "source": [
    "- Graphical understanding of this difference:\n",
    "    - Consider a 2-parameter model, and the values of the parameters are plotted on two axes\n",
    "    - At a given value of $\\alpha$, the LASSO penalty decreases linearly as you approach either axis\n",
    "    - A fixed \"budget\" of parameter weight can be visualized as a circle with a given radius around the origin\n",
    "    - The LASSO penalty is minimized at the points where that circle crosses an axis, which is where one of the parameters equls zero\n",
    "    - By contrast, the Ridge penalty decreases with the distance to the origin, so the optimum is not \"attracted to the gutter\" i.e. one of the axes"
   ]
  },
  {
   "cell_type": "code",
   "execution_count": 31,
   "metadata": {},
   "outputs": [
    {
     "data": {
      "text/plain": [
       "array([5.34528696])"
      ]
     },
     "execution_count": 31,
     "metadata": {},
     "output_type": "execute_result"
    }
   ],
   "source": [
    "# Sklearn example of LASSO\n",
    "lasso_reg = Lasso(alpha=0.1)\n",
    "lasso_reg .fit(X, y)\n",
    "lasso_reg.predict([[1.5]])"
   ]
  },
  {
   "cell_type": "code",
   "execution_count": 33,
   "metadata": {},
   "outputs": [
    {
     "data": {
      "text/plain": [
       "array([5.40506333])"
      ]
     },
     "execution_count": 33,
     "metadata": {},
     "output_type": "execute_result"
    }
   ],
   "source": [
    "# Using SGDRegressor\n",
    "sgd_reg = SGDRegressor(penalty=\"l1\")\n",
    "sgd_reg.fit(X, y.ravel())\n",
    "sgd_reg.predict([[1.5]])"
   ]
  },
  {
   "cell_type": "markdown",
   "metadata": {},
   "source": [
    "### Elastic Net"
   ]
  },
  {
   "cell_type": "markdown",
   "metadata": {},
   "source": [
    "- Elastic Net occupies a \"middle ground\" between $\\ell_1$ and $\\ell_2$ regularization\n",
    "- Elastic Net cost fuction: $$ J(\\pmb{\\theta}) = MSE(\\pmb{\\theta}) + r\\alpha\\sum_{i=1}^{n}|\\theta_i| + \\frac{1-r}{2}\\alpha\\sum_{i=1}^{n}\\theta_i^2 $$\n",
    "- Penalty is a mix of $\\ell_1$ and $\\ell_2$ pentalties:\n",
    "    - Overall amount of penalty is controlled y $\\alpha$ hyperparameter\n",
    "    - Relative strength between the penalty terms is controlled by $r$ hyperparameter\n",
    "- Elastic Net can be more stable than LASSO in situations where there are more features than samples, or if many features are very highly correlated"
   ]
  },
  {
   "cell_type": "code",
   "execution_count": 34,
   "metadata": {},
   "outputs": [
    {
     "data": {
      "text/plain": [
       "array([5.34289799])"
      ]
     },
     "execution_count": 34,
     "metadata": {},
     "output_type": "execute_result"
    }
   ],
   "source": [
    "# sklearn example\n",
    "elastic_net = ElasticNet(alpha=0.1, l1_ratio=0.5)\n",
    "elastic_net.fit(X, y)\n",
    "elastic_net.predict([[1.5]])"
   ]
  },
  {
   "cell_type": "markdown",
   "metadata": {},
   "source": [
    "### Early Stopping"
   ]
  },
  {
   "cell_type": "markdown",
   "metadata": {},
   "source": [
    "- Iterative learning algorithms may also be regularized differently: by stopping the learning process after validation error reaches a minimum\n",
    "    - Intuition relates back to the learning rates graph: the point at which validation error stops decreasing and starts to increase is a sign the model has started to overfit, and is no longer generalizing as well as it can\n",
    "    - In practice, due to non-smooth validation curves, the criterion is usually to stop after the validation curve has been above the minimum for some time, then roll back to the minimum"
   ]
  },
  {
   "cell_type": "markdown",
   "metadata": {},
   "source": [
    "Stopped at the implementation of early stopping, page 204"
   ]
  }
 ],
 "metadata": {
  "kernelspec": {
   "display_name": "homl",
   "language": "python",
   "name": "homl"
  },
  "language_info": {
   "codemirror_mode": {
    "name": "ipython",
    "version": 3
   },
   "file_extension": ".py",
   "mimetype": "text/x-python",
   "name": "python",
   "nbconvert_exporter": "python",
   "pygments_lexer": "ipython3",
   "version": "3.6.10"
  }
 },
 "nbformat": 4,
 "nbformat_minor": 2
}
