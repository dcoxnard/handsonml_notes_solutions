{
 "cells": [
  {
   "cell_type": "code",
   "execution_count": 31,
   "metadata": {
    "collapsed": true
   },
   "outputs": [],
   "source": [
    "import numpy as np\n",
    "import matplotlib.pyplot as plt\n",
    "from sklearn.linear_model import LinearRegression\n",
    "%matplotlib inline"
   ]
  },
  {
   "cell_type": "markdown",
   "metadata": {},
   "source": [
    "# Chapter 4: Traning Models"
   ]
  },
  {
   "cell_type": "markdown",
   "metadata": {},
   "source": [
    "- *Why understand the math behind machine learnings models?* (Q)\n",
    "    - Quickly hone in on appropriate algorithms, or discard inappropriate ones\n",
    "    - Easily narrow down the search space of hyperparameters\n",
    "    - UNderstand debugging and model analysis"
   ]
  },
  {
   "cell_type": "markdown",
   "metadata": {},
   "source": [
    "# Linear Regression"
   ]
  },
  {
   "cell_type": "markdown",
   "metadata": {},
   "source": [
    "- Linear Regression is a conceptually simple model that predicts by computing a weighted sum of the input features, plus offset\n",
    "    - $\\hat{y} = \\theta_0 + \\theta_1 x_1 + \\theta_2 x_2 + ... + \\theta_n x_n $\n",
    "    - Or, more compactly, $\\hat{y} = h_\\theta(\\mathbf{x}) = \\pmb{\\theta} \\cdot \\pmb{x} = \\pmb{\\theta}^\\intercal \\pmb{x} $\n",
    "        - 1st feature in the $\\pmb{x}$ vector is always 1, to create the offset\n",
    "        - $h_\\theta(\\pmb{x})$ is the hypothesis function, which describes the target as a function of the features\n",
    "        - The value of $ \\pmb{\\theta} $ that minimizes the RMSE gives the model with best fit\n",
    "        - In practice, it is easier to minimize the MSE instead of the RMSE.  This gives the same reuslt"
   ]
  },
  {
   "cell_type": "markdown",
   "metadata": {},
   "source": [
    "- Mean Squared Error (MSE) is a measure of the average \"miss\" of the predictions from the ground truth:\n",
    "$$ MSE(\\pmb{X}, h_\\theta) = \\frac{1}{m} \\sum_{i=1}^{m} (\\pmb{\\theta}^\\intercal \\pmb{x}_i - y_i )^{2} $$"
   ]
  },
  {
   "cell_type": "markdown",
   "metadata": {},
   "source": [
    "- Root Mean Squared Error (RMSE) is simply the square root of the MSE:\n",
    "$$ RMSE(\\pmb{X}, h_\\theta) = \\sqrt{MSE(\\pmb{X}, h_\\theta)} $$"
   ]
  },
  {
   "cell_type": "markdown",
   "metadata": {},
   "source": [
    "- *In what situation would you train a machine learning model with a different loss function than the function used to evaluate model performance?* (Q)\n",
    "    - A different function might be easier/quicker to compute, such as using MSE instead of RMSE to fit a Linear Regression model\n",
    "    - A different function might be easier to differentiate\n",
    "    - In order to contrain the model, such as in a regularization setting"
   ]
  },
  {
   "cell_type": "markdown",
   "metadata": {},
   "source": [
    "- The *Normal Equation* gives the closed-form solution to the optimization problem:\n",
    "$$ \\hat{\\pmb{\\theta}} = (\\pmb{X}^\\intercal \\pmb{X})^{-1} \\pmb{X}^\\intercal \\pmb{y} $$"
   ]
  },
  {
   "cell_type": "code",
   "execution_count": 8,
   "metadata": {},
   "outputs": [
    {
     "data": {
      "image/png": "[encoded data removed]",
      "text/plain": [
       "<Figure size 432x288 with 1 Axes>"
      ]
     },
     "metadata": {},
     "output_type": "display_data"
    }
   ],
   "source": [
    "# An example\n",
    "X = 2 * np.random.rand(100, 1)\n",
    "y = 4 + 3 * X + np.random.randn(100, 1)  # Normally distributed noise\n",
    "\n",
    "plt.scatter(X, y);"
   ]
  },
  {
   "cell_type": "code",
   "execution_count": 13,
   "metadata": {
    "collapsed": true
   },
   "outputs": [],
   "source": [
    "# Compute the solution using the normal equation.\n",
    "# This implementation calls out the fact that the solution\n",
    "# is achieved with a chain of matrix multiplications\n",
    "\n",
    "X_withbias = np.c_[np.ones(X.shape), X]\n",
    "theta_hat = np.linalg.inv(X_withbias.T.dot(X_withbias)).dot(X_withbias.T).dot(y)  # Normal equation"
   ]
  },
  {
   "cell_type": "code",
   "execution_count": 25,
   "metadata": {},
   "outputs": [
    {
     "data": {
      "text/plain": [
       "array([[4.02684546],\n",
       "       [2.93508926]])"
      ]
     },
     "execution_count": 25,
     "metadata": {},
     "output_type": "execute_result"
    }
   ],
   "source": [
    "# theta_hat is close to, but doens't precisely equal, the\n",
    "# values hardcoded in the cell above.\n",
    "theta_hat"
   ]
  },
  {
   "cell_type": "code",
   "execution_count": 21,
   "metadata": {
    "collapsed": true
   },
   "outputs": [],
   "source": [
    "X_new = np.array([[0], [2]])\n",
    "X_new_withbias = np.c_[np.ones(X_new.shape), X_new]\n",
    "y_pred = X_new_withbias.dot(theta_hat)"
   ]
  },
  {
   "cell_type": "code",
   "execution_count": 23,
   "metadata": {},
   "outputs": [
    {
     "data": {
      "image/png": "[encoded data removed]",
      "text/plain": [
       "<Figure size 432x288 with 1 Axes>"
      ]
     },
     "metadata": {},
     "output_type": "display_data"
    }
   ],
   "source": [
    "plt.scatter(X, y)\n",
    "plt.plot(X_new, y_pred, color=\"red\");"
   ]
  },
  {
   "cell_type": "code",
   "execution_count": 29,
   "metadata": {},
   "outputs": [
    {
     "data": {
      "text/plain": [
       "LinearRegression(copy_X=True, fit_intercept=True, n_jobs=None, normalize=False)"
      ]
     },
     "execution_count": 29,
     "metadata": {},
     "output_type": "execute_result"
    }
   ],
   "source": [
    "# Another example, this time using sklearn\n",
    "lin_reg = LinearRegression()\n",
    "lin_reg.fit(X, y)"
   ]
  },
  {
   "cell_type": "code",
   "execution_count": 30,
   "metadata": {},
   "outputs": [
    {
     "data": {
      "text/plain": [
       "(array([[2.93508926]]), array([4.02684546]))"
      ]
     },
     "execution_count": 30,
     "metadata": {},
     "output_type": "execute_result"
    }
   ],
   "source": [
    "# Again, the learned parameters approximate, but don't equal,\n",
    "# the hardcoded values.\n",
    "lin_reg.coef_, lin_reg.intercept_"
   ]
  },
  {
   "cell_type": "code",
   "execution_count": 32,
   "metadata": {},
   "outputs": [
    {
     "data": {
      "text/plain": [
       "array([[4.02684546],\n",
       "       [2.93508926]])"
      ]
     },
     "execution_count": 32,
     "metadata": {},
     "output_type": "execute_result"
    }
   ],
   "source": [
    "# Finally, another example using numpy, which the sklearn\n",
    "# implementation is based on.\n",
    "theta_hat_svd, resid, rank, s = np.linalg.lstsq(X_withbias, y, rcond=1e-6)\n",
    "theta_hat_svd"
   ]
  },
  {
   "cell_type": "markdown",
   "metadata": {},
   "source": [
    "- The last example computes the Moore-Penrose (pseudo-)inverse of $\\pmb{X}$:\n",
    "    - $ \\hat{\\pmb{\\theta}} = \\pmb{X}^{+}\\pmb{y} $\n",
    "    - Can be computed directly with `np.linalg.pinv(X_withbias).dot(y)`\n",
    "    - Moorse-Penrose inverse is calculated using SVD\n",
    "        - $ \\pmb{U} \\pmb{\\Sigma} \\pmb{V}^\\intercal $\n",
    "        - `np.linalg.svd()`\n",
    "        - Computed by taking SVD of $\\pmb{X}$, set all small values in $\\pmb{\\Sigma}$ to zero, invert all its nonzero values, then transpose to get $ \\pmb{U} \\pmb{\\Sigma}^{+} \\pmb{V}^\\intercal $\n",
    "    - This is more efficient than copmuting the normal equation\n",
    "    - More robust to cases where $ \\pmb{X}^\\intercal \\pmb{X} $ cannot be inverted (i.e. it's singular)\n",
    "        - Such as $n_{cols} > n_{rows}$ or in multicollinearity setting"
   ]
  },
  {
   "cell_type": "markdown",
   "metadata": {},
   "source": [
    "- Computational complexity of the Moore-Penrose approach is better than the Normal Equation approach\n",
    "    - Moore-Penrose approach used by `sklearn` is about $O(n^2)$\n",
    "    - Inversion of an $(n+1) \\times (n+1)$ matrix as in the normal equation is about $O(n^{2.4})$ to $O(n^3)$\n",
    "    - Efficiency of both approaches deteriorates in high dimensions\n",
    "    - Linear in the number of rows, so both approaches work well with large datasets\n",
    "    - Predictions are fast once model has been trained: linear w.r.t. both number of features and rows"
   ]
  },
  {
   "cell_type": "code",
   "execution_count": null,
   "metadata": {
    "collapsed": true
   },
   "outputs": [],
   "source": []
  }
 ],
 "metadata": {
  "kernelspec": {
   "display_name": "homl",
   "language": "python",
   "name": "homl"
  },
  "language_info": {
   "codemirror_mode": {
    "name": "ipython",
    "version": 3
   },
   "file_extension": ".py",
   "mimetype": "text/x-python",
   "name": "python",
   "nbconvert_exporter": "python",
   "pygments_lexer": "ipython3",
   "version": "3.6.10"
  }
 },
 "nbformat": 4,
 "nbformat_minor": 2
}
