{
 "cells": [
  {
   "cell_type": "markdown",
   "metadata": {},
   "source": [
    "# Chapter 3 Exercises"
   ]
  },
  {
   "cell_type": "code",
   "execution_count": 1,
   "metadata": {},
   "outputs": [],
   "source": [
    "import time\n",
    "import numpy as np\n",
    "import pandas as pd\n",
    "from sklearn import datasets, neighbors, preprocessing, \\\n",
    "    pipeline, model_selection, metrics\n",
    "import matplotlib.pyplot as plt\n",
    "%matplotlib inline"
   ]
  },
  {
   "cell_type": "markdown",
   "metadata": {},
   "source": [
    "First, some data fetching and preparation"
   ]
  },
  {
   "cell_type": "code",
   "execution_count": 2,
   "metadata": {},
   "outputs": [],
   "source": [
    "ds_name = \"mnist_784\"\n",
    "mnist = datasets.fetch_openml(ds_name)"
   ]
  },
  {
   "cell_type": "code",
   "execution_count": 3,
   "metadata": {},
   "outputs": [],
   "source": [
    "X, y = mnist[\"data\"], mnist[\"target\"]"
   ]
  },
  {
   "cell_type": "code",
   "execution_count": 4,
   "metadata": {},
   "outputs": [
    {
     "data": {
      "text/plain": [
       "((70000, 784), (70000,))"
      ]
     },
     "execution_count": 4,
     "metadata": {},
     "output_type": "execute_result"
    }
   ],
   "source": [
    "X.shape, y.shape"
   ]
  },
  {
   "cell_type": "code",
   "execution_count": 5,
   "metadata": {},
   "outputs": [],
   "source": [
    "split_ix = 60000\n",
    "X_train = X[:split_ix]\n",
    "y_train = y[:split_ix]\n",
    "X_test = X[split_ix:]\n",
    "y_test = y[split_ix:]"
   ]
  },
  {
   "cell_type": "code",
   "execution_count": 6,
   "metadata": {},
   "outputs": [
    {
     "data": {
      "image/png": "[encoded data removed]",
      "text/plain": [
       "<Figure size 432x288 with 1 Axes>"
      ]
     },
     "metadata": {
      "needs_background": "light"
     },
     "output_type": "display_data"
    }
   ],
   "source": [
    "plot_ix = 0\n",
    "plt.imshow(X_train[plot_ix].reshape(28,28), cmap=\"binary\")\n",
    "plt.axis(\"off\");"
   ]
  },
  {
   "cell_type": "markdown",
   "metadata": {},
   "source": [
    "## Exercise 1\n",
    "Try to fit a classifier that achieves >97% accuracy on the test set (last 10,000 rows of the MNIST 784 data)."
   ]
  },
  {
   "cell_type": "markdown",
   "metadata": {},
   "source": [
    "The first classifier that I investigated was KNN, for no particular reason.  In fact, KNN should stand out as not being a great classifier for this problem, due to the high dimensionality (784 features) of the data.  In a setting with so many dimensions, all points will tend to be relatively far from the origin and the usefulness of Euclidean distance as a description of \"closeness\" starts to break down.  Nevertheless, I thought I would try it out just to try it out.  If anything, KNN is one of the simplest classification algorithnms that navtively supports multiclass classification, which is what we're interested in with the MNIST digits dataset."
   ]
  },
  {
   "cell_type": "markdown",
   "metadata": {},
   "source": [
    "In fact, there is another reason why KNN is a risky algorithm to try, at least as implemented in `sklearn`.  The implementation of the `KNeighborsClassifier` has a few \"helpful\" tricks under the hood to help speed up nearest-neighbor searches.  The search, i.e. the predicting function of the classifier, is where the bulk of the computation is.  _Fitting_ the model more or less just reduces to storing a representation of the data, while _predicting_ requires querying the data for the K nearest neighbors.  Without applying any clever \"tricks\", this querying is an `O(n)` operation because a new point must be evaluated against each training point."
   ]
  },
  {
   "cell_type": "markdown",
   "metadata": {},
   "source": [
    "`KNeighborsClassifier` supports some tricks that are meant to speed up this query time, by storing the training data in a tree structure instead of just as-is.  Two of these alternate representations are available: `KDTree` and `BallTree`, each with their own strengths and weaknesses.  Both of them share a weakness: they are much slower than simple brute-forcing the query when the dimensionaility is as high as it is in this dataset.  The `sklearn` documentation declares that, if no algorithm is passed at fit-time (i.e. the default `algorithm='auto'` is used), `KNeighborsClassifier` will try to determine the best algorithm to use.  On this dataset, `sklearn` totally whiffs: `kdtree` is determined to be the best algorithm to use, but computation performance is awful with 784 dimensions to contend with.  3-fold cross validation on the entire train set with `algorithm='brute'` takes less than three minutes on my laptop; letting the `auto` option select `algorithm='kd_tree'` takes so long that I haven't yet had the patience to let the cell run through."
   ]
  },
  {
   "cell_type": "markdown",
   "metadata": {},
   "source": [
    "Of course, the curse of dimensionality stil prevents the classifier from achieveing an accuracy above 97%.  Despite `KNeighborsClassifier` not being the best tool for the job, it is helpful to know about the different options for producing a prediciton, and where their strengths and weaknesses are."
   ]
  },
  {
   "cell_type": "code",
   "execution_count": 7,
   "metadata": {},
   "outputs": [],
   "source": [
    "nrows = 1000"
   ]
  },
  {
   "cell_type": "code",
   "execution_count": 8,
   "metadata": {
    "scrolled": true
   },
   "outputs": [
    {
     "name": "stdout",
     "output_type": "stream",
     "text": [
      "Grid search took 0.05212 seconds using algorithm: 'brute' on 1000 training rows\n"
     ]
    }
   ],
   "source": [
    "algo = 'brute'\n",
    "knn_clf = neighbors.KNeighborsClassifier()\n",
    "param_grid = [\n",
    "    {\"n_neighbors\": [5], \"algorithm\": [algo]},  # 5 is the default value\n",
    "]\n",
    "cv = 3\n",
    "start = time.time()\n",
    "grid_search_brute = model_selection.GridSearchCV(knn_clf, param_grid, cv=cv)\n",
    "grid_search_brute.fit(X_train[:nrows], y_train[:nrows])\n",
    "end = time.time()\n",
    "print(f\"Grid search took {round(end-start, 5)} seconds using algorithm: '{algo}' on {nrows} training rows\")"
   ]
  },
  {
   "cell_type": "code",
   "execution_count": 9,
   "metadata": {},
   "outputs": [
    {
     "name": "stdout",
     "output_type": "stream",
     "text": [
      "Grid search took 0.74349 seconds using algorithm: 'ball_tree' on 1000 training rows\n"
     ]
    }
   ],
   "source": [
    "algo = 'ball_tree'\n",
    "knn_clf = neighbors.KNeighborsClassifier()\n",
    "param_grid = [\n",
    "    {\"n_neighbors\": [5], \"algorithm\": [algo]},\n",
    "]\n",
    "cv = 3\n",
    "start = time.time()\n",
    "grid_search_balltree = model_selection.GridSearchCV(knn_clf, param_grid, cv=cv)\n",
    "grid_search_balltree.fit(X_train[:nrows], y_train[:nrows])\n",
    "end = time.time()\n",
    "print(f\"Grid search took {round(end-start, 5)} seconds using algorithm: '{algo}' on {nrows} training rows\")"
   ]
  },
  {
   "cell_type": "code",
   "execution_count": 10,
   "metadata": {},
   "outputs": [
    {
     "name": "stdout",
     "output_type": "stream",
     "text": [
      "Grid search took 0.96217 seconds using algorithm: 'kd_tree' on 1000 training rows\n"
     ]
    }
   ],
   "source": [
    "algo = 'kd_tree'\n",
    "knn_clf = neighbors.KNeighborsClassifier()\n",
    "param_grid = [\n",
    "    {\"n_neighbors\": [5], \"algorithm\": [algo]},\n",
    "]\n",
    "cv = 3\n",
    "start = time.time()\n",
    "grid_search_kdtree = model_selection.GridSearchCV(knn_clf, param_grid, cv=cv)\n",
    "grid_search_kdtree.fit(X_train[:nrows], y_train[:nrows])\n",
    "end = time.time()\n",
    "print(f\"Grid search took {round(end-start, 5)} seconds using algorithm: '{algo}' on {nrows} training rows\")"
   ]
  },
  {
   "cell_type": "code",
   "execution_count": 11,
   "metadata": {},
   "outputs": [],
   "source": [
    "def knn_scaling(nrows_arr, algos):\n",
    "    \"\"\"Docstring\"\"\"\n",
    "    searches = {}\n",
    "    cv = 3\n",
    "    for algo in algos:\n",
    "        searches[algo] = {}\n",
    "        for nrow in nrows_arr:\n",
    "            knn_clf = neighbors.KNeighborsClassifier()\n",
    "            param_grid = [{\"n_neighbors\": [5], \"algorithm\": [algo]}]\n",
    "            grid_search = model_selection.GridSearchCV(knn_clf, param_grid, cv=cv)\n",
    "            grid_search.fit(X_train[:nrow], y_train[:nrow])\n",
    "            searches[algo][nrow] = grid_search\n",
    "    return searches"
   ]
  },
  {
   "cell_type": "code",
   "execution_count": 12,
   "metadata": {},
   "outputs": [],
   "source": [
    "def plot_scaling(searches):\n",
    "    algos = list(searches.keys())\n",
    "    nrows = list(searches[algos[0]].keys())  # Assumes they're the same across algos\n",
    "    group_ixs = range(len(nrows))\n",
    "    group_width = 0.35\n",
    "    \n",
    "    fig, ax = plt.subplots(figsize=(8, 8))\n",
    "    \n",
    "    for incr, algo in enumerate(algos):\n",
    "        \n",
    "        times = [gs.cv_results_[\"mean_fit_time\"][0] for gs in searches[algo].values()]\n",
    "        stds = [gs.cv_results_[\"std_fit_time\"][0] for gs in searches[algo].values()]\n",
    "        width = group_width / len(algos)\n",
    "        ixs = [ix + (width * incr) for ix in group_ixs]\n",
    "        ax.bar(ixs, times, width=width, yerr=stds, zorder=2);\n",
    "        \n",
    "    ax.set_xticklabels(nrows)\n",
    "    plt.yscale(\"log\")\n",
    "    plt.grid(True, which=\"major\", axis=\"y\", zorder=1)\n",
    "    plt.grid(True, which=\"minor\", axis=\"y\", linestyle=\"--\", zorder=1)"
   ]
  },
  {
   "cell_type": "code",
   "execution_count": 13,
   "metadata": {},
   "outputs": [
    {
     "name": "stdout",
     "output_type": "stream",
     "text": [
      "Searches took 41 seconds\n"
     ]
    }
   ],
   "source": [
    "nrows_arr = [100, 1000, 5000]\n",
    "algos = [\"brute\", \"ball_tree\", \"kd_tree\"]\n",
    "start= time.time()\n",
    "searches = knn_scaling(nrows_arr, algos)\n",
    "end = time.time()\n",
    "print(f\"Searches took {round(end-start)} seconds\")"
   ]
  },
  {
   "cell_type": "code",
   "execution_count": 14,
   "metadata": {},
   "outputs": [
    {
     "data": {
      "image/png": "[encoded data removed]",
      "text/plain": [
       "<Figure size 576x576 with 1 Axes>"
      ]
     },
     "metadata": {
      "needs_background": "light"
     },
     "output_type": "display_data"
    }
   ],
   "source": [
    "plot_scaling(searches)"
   ]
  },
  {
   "cell_type": "markdown",
   "metadata": {},
   "source": [
    "`kd_tree` scales worse than `ball_tree` and much worse than `brute` on this data set.  It seems to me that the `sklearn` implementation of `KNeighborsClassifier` should take dimensionality into account when determining which algorithm to automatically select when `algorithm='auto'`."
   ]
  },
  {
   "cell_type": "code",
   "execution_count": 15,
   "metadata": {
    "scrolled": false
   },
   "outputs": [
    {
     "name": "stdout",
     "output_type": "stream",
     "text": [
      "Fitting 6 folds for each of 6 candidates, totalling 36 fits\n"
     ]
    },
    {
     "name": "stderr",
     "output_type": "stream",
     "text": [
      "[Parallel(n_jobs=8)]: Using backend LokyBackend with 8 concurrent workers.\n",
      "[Parallel(n_jobs=8)]: Done   2 tasks      | elapsed:   19.7s\n",
      "[Parallel(n_jobs=8)]: Done  29 out of  36 | elapsed:  1.4min remaining:   20.4s\n",
      "[Parallel(n_jobs=8)]: Done  36 out of  36 | elapsed:  1.6min finished\n"
     ]
    },
    {
     "name": "stdout",
     "output_type": "stream",
     "text": [
      "Grid search took 99 seconds\n"
     ]
    }
   ],
   "source": [
    "knn_clf = neighbors.KNeighborsClassifier()\n",
    "param_grid = [{\"algorithm\": [\"brute\"],\n",
    "               \"n_neighbors\": [3, 4, 5],\n",
    "               \"weights\": [\"uniform\", \"distance\"]}]\n",
    "cv = 6\n",
    "\n",
    "start = time.time()\n",
    "grid_search = model_selection.GridSearchCV(knn_clf, param_grid,\n",
    "                                           cv=cv, verbose=5, n_jobs=8,\n",
    "                                           refit=True)\n",
    "grid_search.fit(X_train, y_train)\n",
    "end = time.time()\n",
    "print(f\"Grid search took {round(end-start)} seconds\")"
   ]
  },
  {
   "cell_type": "code",
   "execution_count": 16,
   "metadata": {},
   "outputs": [
    {
     "data": {
      "image/png": "[encoded data removed]",
      "text/plain": [
       "<Figure size 864x288 with 2 Axes>"
      ]
     },
     "metadata": {
      "needs_background": "light"
     },
     "output_type": "display_data"
    }
   ],
   "source": [
    "# Plot the results\n",
    "\n",
    "fig, axs = plt.subplots(1, 2, figsize=(12, 4))\n",
    "sc_ax, time_ax = axs[0], axs[1]\n",
    "\n",
    "\n",
    "params_searched = grid_search.cv_results_[\"params\"]\n",
    "meantimes = grid_search.cv_results_[\"mean_fit_time\"]\n",
    "stdtimes = grid_search.cv_results_[\"std_fit_time\"]\n",
    "meanscores = grid_search.cv_results_[\"mean_test_score\"]\n",
    "stdscores = grid_search.cv_results_[\"std_test_score\"]\n",
    "weights = [\"uniform\", \"distance\"]\n",
    "\n",
    "d = {}\n",
    "for i, p in enumerate(params_searched):\n",
    "    n_neibs = p[\"n_neighbors\"]\n",
    "    meantime = meantimes[i]\n",
    "    stdtime = stdtimes[i]\n",
    "    meanscore = meanscores[i]\n",
    "    stdscore = stdscores[i]\n",
    "    weight = p[\"weights\"]\n",
    "    row = [i, n_neibs, meantime, stdtime, meanscore, stdscore]\n",
    "    if not d.get(weight):\n",
    "        d[weight] = []\n",
    "    d[weight].append(row)\n",
    "\n",
    "width = 0.35\n",
    "for i, weight in enumerate(d.keys()):\n",
    "    offset = (((i*2)-1) * width/2)\n",
    "    bar_ixs = [x + offset for x in range(len(d[weight]))]\n",
    "    label_ixs = [x for x in range(len(d[weight]))]\n",
    "    xticklabels = [r[1] for r in d[weight]]\n",
    "    \n",
    "    times_mu = [r[2] for r in d[weight]]\n",
    "    times_sigma = [r[3] for r in d[weight]]\n",
    "    time_ax.bar(bar_ixs, times_mu, yerr=times_sigma, width=width, zorder=2)\n",
    "    \n",
    "    score_mu = [r[4] for r in d[weight]]\n",
    "    score_sigma = [r[5] for r in d[weight]]\n",
    "    sc_ax.bar(bar_ixs, score_mu, yerr=score_sigma, width=width, zorder=2)\n",
    "\n",
    "# TODO: legend for weights / colors\n",
    "time_ax.set_title(f\"Model Fit Time\")\n",
    "time_ax.set_xticks(label_ixs)\n",
    "time_ax.set_xticklabels(xticklabels)\n",
    "time_ax.set_xlabel(\"n_neighbors\")\n",
    "time_ax.set_ylabel(\"Time in seconds\")\n",
    "time_ax.grid(True, axis=\"y\", which=\"major\", zorder=1, linestyle=\"--\")\n",
    "\n",
    "sc_ax.set_title(f\"Model Accuracy\")\n",
    "sc_ax.set_xticks(label_ixs)\n",
    "sc_ax.set_xticklabels(xticklabels)\n",
    "sc_ax.set_xlabel(\"n_neighbors\")\n",
    "sc_ax.set_ylabel(\"Accuracy (%)\")\n",
    "sc_ax.set_ylim(0.8, 1.01)\n",
    "sc_ax.grid(True, axis=\"y\", which=\"major\", zorder=1, linestyle=\"--\")\n",
    "plt.show();"
   ]
  },
  {
   "cell_type": "code",
   "execution_count": 17,
   "metadata": {},
   "outputs": [
    {
     "name": "stdout",
     "output_type": "stream",
     "text": [
      "Test Accuracy of Final Estimator: 97.14%\n"
     ]
    }
   ],
   "source": [
    "y_test_pred = grid_search.predict(X_test)\n",
    "acc = metrics.accuracy_score(y_test, y_test_pred)\n",
    "print(f\"Test Accuracy of Final Estimator: {round(acc*100, 2)}%\")"
   ]
  },
  {
   "cell_type": "code",
   "execution_count": 18,
   "metadata": {},
   "outputs": [
    {
     "data": {
      "text/plain": [
       "(0.9719333333333333,\n",
       " {'algorithm': 'brute', 'n_neighbors': 4, 'weights': 'distance'})"
      ]
     },
     "execution_count": 18,
     "metadata": {},
     "output_type": "execute_result"
    }
   ],
   "source": [
    "grid_search.best_score_, grid_search.best_params_"
   ]
  },
  {
   "cell_type": "markdown",
   "metadata": {},
   "source": [
    "This estimator achieves a test accuracy of >97%."
   ]
  },
  {
   "cell_type": "markdown",
   "metadata": {},
   "source": [
    "It is surprising to me that accuracy is better on the non-standardized data.  My first intuition would have been that a preprocessing step of standardization would have bosted accuracy."
   ]
  },
  {
   "cell_type": "markdown",
   "metadata": {},
   "source": [
    "In hindsight, two things are clear.  Firstly, this data doesn't require a standardization step like other datasets might, because all of the features are already measured within the same range (pixel darkness ranging from 0-255).  Secondly, standardization may actually decrease accuracy -- I am however having difficulty articulating exactly _why_ this is the case, but I am thinking that it has to do with how a pixel value of anything-other-than-zero is meaningful in an of itself."
   ]
  },
  {
   "cell_type": "markdown",
   "metadata": {},
   "source": [
    "## Exercise 2"
   ]
  },
  {
   "cell_type": "markdown",
   "metadata": {},
   "source": [
    "Create an augmented dataset, fit the previous best model, and inspect whether the accuracy improves.  Specifically, augment the dataset by shifting each image in the training set by one pixed up/down/left/right."
   ]
  },
  {
   "cell_type": "code",
   "execution_count": 120,
   "metadata": {},
   "outputs": [],
   "source": [
    "params = grid_search.best_estimator_.get_params()"
   ]
  },
  {
   "cell_type": "code",
   "execution_count": 117,
   "metadata": {},
   "outputs": [],
   "source": [
    "def pad_arr(arr):\n",
    "    padded_top = np.zeros(arr.shape)\n",
    "    padded_top[1:, :] = arr[:-1, :]\n",
    "    \n",
    "    padded_bottom = np.zeros(arr.shape)\n",
    "    padded_bottom[:-1, :] = arr[1:, :]\n",
    "    \n",
    "    padded_left = np.zeros(arr.shape)\n",
    "    padded_left[:, 1:] = arr[:, :-1]\n",
    "    \n",
    "    padded_right = np.zeros(arr.shape)\n",
    "    padded_right[:, :-1] = arr[:, 1:]\n",
    "    \n",
    "    return padded_top, padded_bottom, padded_left, padded_right"
   ]
  },
  {
   "cell_type": "code",
   "execution_count": 134,
   "metadata": {},
   "outputs": [
    {
     "data": {
      "image/png": "[encoded data removed]",
      "text/plain": [
       "<Figure size 432x288 with 4 Axes>"
      ]
     },
     "metadata": {
      "needs_background": "light"
     },
     "output_type": "display_data"
    }
   ],
   "source": [
    "# Inspect the results\n",
    "t, b, l, r = pad_arr(X_train[0].reshape(28,28))\n",
    "fig, axs = plt.subplots(2, 2)\n",
    "\n",
    "for i, arr in enumerate([t, b, l, r]):\n",
    "    ax = axs.flatten()[i]\n",
    "    ax.imshow(arr, cmap=\"binary\");"
   ]
  },
  {
   "cell_type": "code",
   "execution_count": 141,
   "metadata": {},
   "outputs": [],
   "source": [
    "new_xs = []\n",
    "new_ys = []\n",
    "for x, y in zip(X_train, y_train):\n",
    "    x = x.reshape(28, 28)\n",
    "    for new_arr in pad_arr(x):\n",
    "        new_arr = new_arr.reshape(784,)\n",
    "        new_xs.append(new_arr)\n",
    "    new_ys.extend([y] * 4)\n",
    "X_train_new = np.array(new_xs)\n",
    "y_train_new = np.array(new_ys)\n",
    "\n",
    "X_train_aug = np.concatenate([X_train, X_train_new])\n",
    "y_train_aug = np.concatenate([y_train, y_train_new])"
   ]
  },
  {
   "cell_type": "code",
   "execution_count": 142,
   "metadata": {},
   "outputs": [
    {
     "name": "stdout",
     "output_type": "stream",
     "text": [
      "Model Accuracy is 97.63%\n"
     ]
    }
   ],
   "source": [
    "knn_clf = neighbors.KNeighborsClassifier(**params)\n",
    "knn_clf.fit(X_train_aug, y_train_aug)\n",
    "y_pred2 = knn_clf.predict(X_test)\n",
    "acc = metrics.accuracy_score(y_test, y_pred2)\n",
    "print(f\"Model Accuracy is {round(acc*100, 2)}%\")"
   ]
  },
  {
   "cell_type": "markdown",
   "metadata": {},
   "source": [
    "Model accuracy is improved over the previous estimator.  Augmenting the dataset helps the model to better pick out signal from noise."
   ]
  },
  {
   "cell_type": "code",
   "execution_count": null,
   "metadata": {},
   "outputs": [],
   "source": []
  }
 ],
 "metadata": {
  "kernelspec": {
   "display_name": "homl",
   "language": "python",
   "name": "homl"
  },
  "language_info": {
   "codemirror_mode": {
    "name": "ipython",
    "version": 3
   },
   "file_extension": ".py",
   "mimetype": "text/x-python",
   "name": "python",
   "nbconvert_exporter": "python",
   "pygments_lexer": "ipython3",
   "version": "3.8.3"
  }
 },
 "nbformat": 4,
 "nbformat_minor": 2
}
