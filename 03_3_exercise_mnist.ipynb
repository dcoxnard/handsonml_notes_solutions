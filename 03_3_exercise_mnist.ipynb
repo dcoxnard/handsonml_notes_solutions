{
 "cells": [
  {
   "cell_type": "code",
   "execution_count": 1,
   "metadata": {},
   "outputs": [],
   "source": [
    "import time\n",
    "import numpy as np\n",
    "import pandas as pd\n",
    "from sklearn import datasets, neighbors, preprocessing, \\\n",
    "    pipeline, model_selection\n",
    "import matplotlib.pyplot as plt\n",
    "%matplotlib inline"
   ]
  },
  {
   "cell_type": "code",
   "execution_count": 2,
   "metadata": {},
   "outputs": [],
   "source": [
    "ds_name = \"mnist_784\"\n",
    "mnist = datasets.fetch_openml(ds_name)"
   ]
  },
  {
   "cell_type": "code",
   "execution_count": 3,
   "metadata": {},
   "outputs": [],
   "source": [
    "X, y = mnist[\"data\"], mnist[\"target\"]"
   ]
  },
  {
   "cell_type": "code",
   "execution_count": 4,
   "metadata": {},
   "outputs": [
    {
     "data": {
      "text/plain": [
       "((70000, 784), (70000,))"
      ]
     },
     "execution_count": 4,
     "metadata": {},
     "output_type": "execute_result"
    }
   ],
   "source": [
    "X.shape, y.shape"
   ]
  },
  {
   "cell_type": "code",
   "execution_count": 5,
   "metadata": {},
   "outputs": [],
   "source": [
    "split_ix = 60000\n",
    "X_train_raw = X[:split_ix]\n",
    "y_train = y[:split_ix]\n",
    "X_test_raw = X[split_ix:]\n",
    "y_test = X[split_ix:]"
   ]
  },
  {
   "cell_type": "code",
   "execution_count": 6,
   "metadata": {},
   "outputs": [
    {
     "data": {
      "image/png": "[encoded data removed]",
      "text/plain": [
       "<Figure size 432x288 with 1 Axes>"
      ]
     },
     "metadata": {},
     "output_type": "display_data"
    }
   ],
   "source": [
    "plot_ix = 0\n",
    "plt.imshow(X_train_raw[plot_ix].reshape(28,28), cmap=\"binary\")\n",
    "plt.axis(\"off\");"
   ]
  },
  {
   "cell_type": "code",
   "execution_count": 7,
   "metadata": {},
   "outputs": [],
   "source": [
    "pipe = pipeline.Pipeline([\n",
    "    (\"scaler\", preprocessing.StandardScaler())\n",
    "])"
   ]
  },
  {
   "cell_type": "code",
   "execution_count": 8,
   "metadata": {},
   "outputs": [],
   "source": [
    "X_train = pipe.fit_transform(X_train_raw)"
   ]
  },
  {
   "cell_type": "code",
   "execution_count": null,
   "metadata": {},
   "outputs": [],
   "source": []
  },
  {
   "cell_type": "code",
   "execution_count": 9,
   "metadata": {},
   "outputs": [],
   "source": []
  },
  {
   "cell_type": "code",
   "execution_count": 30,
   "metadata": {},
   "outputs": [],
   "source": [
    "knn_clf = neighbors.KNeighborsClassifier()"
   ]
  },
  {
   "cell_type": "code",
   "execution_count": 31,
   "metadata": {},
   "outputs": [
    {
     "name": "stdout",
     "output_type": "stream",
     "text": [
      "Fit took 3 seconds on 10000 rows\n"
     ]
    }
   ],
   "source": [
    "n = 10000\n",
    "X_1 = X_train[:n]\n",
    "y_1 = y_train[:n]\n",
    "\n",
    "start = time.time()\n",
    "knn_clf.fit(X_1, y_1)\n",
    "end = time.time()\n",
    "print(f\"Fit took {round(end-start)} seconds on {n} rows\")"
   ]
  },
  {
   "cell_type": "code",
   "execution_count": 20,
   "metadata": {},
   "outputs": [
    {
     "name": "stdout",
     "output_type": "stream",
     "text": [
      "Fit took 8 seconds on 20000 rows\n"
     ]
    }
   ],
   "source": [
    "n = 20000\n",
    "X_1 = X_train[:n]\n",
    "y_1 = y_train[:n]\n",
    "\n",
    "start = time.time()\n",
    "knn_clf.fit(X_1, y_1)\n",
    "end = time.time()\n",
    "print(f\"Fit took {round(end-start)} seconds on {n} rows\")"
   ]
  },
  {
   "cell_type": "code",
   "execution_count": 21,
   "metadata": {},
   "outputs": [
    {
     "name": "stdout",
     "output_type": "stream",
     "text": [
      "Fit took 32 seconds on 50000 rows\n"
     ]
    }
   ],
   "source": [
    "n = 50000\n",
    "X_1 = X_train[:n]\n",
    "y_1 = y_train[:n]\n",
    "\n",
    "start = time.time()\n",
    "knn_clf.fit(X_1, y_1)\n",
    "end = time.time()\n",
    "print(f\"Fit took {round(end-start)} seconds on {n} rows\")"
   ]
  },
  {
   "cell_type": "code",
   "execution_count": 22,
   "metadata": {},
   "outputs": [
    {
     "name": "stdout",
     "output_type": "stream",
     "text": [
      "Fit took 43 seconds on 60000 rows\n"
     ]
    }
   ],
   "source": [
    "n = 60000\n",
    "X_1 = X_train[:n]\n",
    "y_1 = y_train[:n]\n",
    "\n",
    "start = time.time()\n",
    "knn_clf.fit(X_1, y_1)\n",
    "end = time.time()\n",
    "print(f\"Fit took {round(end-start)} seconds on {n} rows\")"
   ]
  },
  {
   "cell_type": "code",
   "execution_count": 23,
   "metadata": {},
   "outputs": [
    {
     "data": {
      "text/plain": [
       "{'algorithm': 'auto',\n",
       " 'leaf_size': 30,\n",
       " 'metric': 'minkowski',\n",
       " 'metric_params': None,\n",
       " 'n_jobs': None,\n",
       " 'n_neighbors': 5,\n",
       " 'p': 2,\n",
       " 'weights': 'uniform'}"
      ]
     },
     "execution_count": 23,
     "metadata": {},
     "output_type": "execute_result"
    }
   ],
   "source": [
    "knn_clf.get_params()"
   ]
  },
  {
   "cell_type": "code",
   "execution_count": null,
   "metadata": {},
   "outputs": [],
   "source": []
  },
  {
   "cell_type": "code",
   "execution_count": null,
   "metadata": {},
   "outputs": [],
   "source": []
  },
  {
   "cell_type": "code",
   "execution_count": null,
   "metadata": {},
   "outputs": [],
   "source": []
  },
  {
   "cell_type": "code",
   "execution_count": null,
   "metadata": {},
   "outputs": [],
   "source": []
  },
  {
   "cell_type": "code",
   "execution_count": 32,
   "metadata": {},
   "outputs": [
    {
     "name": "stdout",
     "output_type": "stream",
     "text": [
      "Fitting 3 folds for each of 2 candidates, totalling 6 fits\n"
     ]
    },
    {
     "name": "stderr",
     "output_type": "stream",
     "text": [
      "[Parallel(n_jobs=-1)]: Using backend LokyBackend with 4 concurrent workers.\n",
      "[Parallel(n_jobs=-1)]: Done   3 out of   6 | elapsed:   40.4s remaining:   40.4s\n",
      "[Parallel(n_jobs=-1)]: Done   6 out of   6 | elapsed:  1.3min finished\n"
     ]
    },
    {
     "name": "stdout",
     "output_type": "stream",
     "text": [
      "Grid search took 80 seconds\n"
     ]
    }
   ],
   "source": [
    "n = 10000\n",
    "X_1 = X_train[:n]\n",
    "y_1 = y_train[:n]\n",
    "\n",
    "\n",
    "param_grid = [\n",
    "    {\"n_neighbors\": [3, 5]},\n",
    "]\n",
    "cv = 3\n",
    "start = time.time()\n",
    "grid_search = model_selection.GridSearchCV(knn_clf, param_grid, cv=cv,\n",
    "                                           verbose=5, n_jobs=-1)\n",
    "grid_search.fit(X_1, y_1)\n",
    "end = time.time()\n",
    "print(f\"Grid search took {round(end-start)} seconds\")"
   ]
  },
  {
   "cell_type": "code",
   "execution_count": 33,
   "metadata": {},
   "outputs": [
    {
     "name": "stdout",
     "output_type": "stream",
     "text": [
      "Fitting 3 folds for each of 2 candidates, totalling 6 fits\n"
     ]
    },
    {
     "name": "stderr",
     "output_type": "stream",
     "text": [
      "[Parallel(n_jobs=-1)]: Using backend LokyBackend with 4 concurrent workers.\n",
      "[Parallel(n_jobs=-1)]: Done   3 out of   6 | elapsed:  2.7min remaining:  2.7min\n",
      "[Parallel(n_jobs=-1)]: Done   6 out of   6 | elapsed:  5.1min finished\n"
     ]
    },
    {
     "name": "stdout",
     "output_type": "stream",
     "text": [
      "Grid search took 314 seconds\n"
     ]
    }
   ],
   "source": [
    "n = 20000\n",
    "X_1 = X_train[:n]\n",
    "y_1 = y_train[:n]\n",
    "\n",
    "\n",
    "param_grid = [\n",
    "    {\"n_neighbors\": [3, 5]},\n",
    "]\n",
    "cv = 3\n",
    "start = time.time()\n",
    "grid_search = model_selection.GridSearchCV(knn_clf, param_grid, cv=cv,\n",
    "                                           verbose=5, n_jobs=-1)\n",
    "grid_search.fit(X_1, y_1)\n",
    "end = time.time()\n",
    "print(f\"Grid search took {round(end-start)} seconds\")"
   ]
  }
 ],
 "metadata": {
  "kernelspec": {
   "display_name": "homl",
   "language": "python",
   "name": "homl"
  },
  "language_info": {
   "codemirror_mode": {
    "name": "ipython",
    "version": 3
   },
   "file_extension": ".py",
   "mimetype": "text/x-python",
   "name": "python",
   "nbconvert_exporter": "python",
   "pygments_lexer": "ipython3",
   "version": "3.6.10"
  }
 },
 "nbformat": 4,
 "nbformat_minor": 2
}
