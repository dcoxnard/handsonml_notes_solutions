{
 "cells": [
  {
   "cell_type": "code",
   "execution_count": 177,
   "metadata": {},
   "outputs": [],
   "source": [
    "import os\n",
    "import time\n",
    "import string\n",
    "import math\n",
    "\n",
    "import numpy as np\n",
    "import pandas as pd\n",
    "import matplotlib.pyplot as plt\n",
    "from sklearn import preprocessing, neighbors, metrics, pipeline, \\\n",
    "    impute, compose, model_selection\n",
    "%matplotlib inline"
   ]
  },
  {
   "cell_type": "code",
   "execution_count": 16,
   "metadata": {},
   "outputs": [],
   "source": [
    "data_dir = os.path.join(\"datasets\", \"titanic\")\n",
    "train_path = os.path.join(data_dir, \"titanic_train.csv\")\n",
    "test_path = os.path.join(data_dir, \"titanic_test.csv\")\n",
    "\n",
    "train = pd.read_csv(train_path)\n",
    "test = pd.read_csv(test_path)"
   ]
  },
  {
   "cell_type": "code",
   "execution_count": 24,
   "metadata": {},
   "outputs": [],
   "source": [
    "def camel_to_snake(colname):\n",
    "    \"\"\"e.g. CamelCaseColumn --> camel_case_column\"\"\"\n",
    "    accumulator = []\n",
    "    for i, char in enumerate(colname):\n",
    "        is_cap = char in string.ascii_uppercase\n",
    "        if is_cap:\n",
    "            lower_char = char.lower()\n",
    "            if i != 0:\n",
    "                accumulator.append(\"_\")\n",
    "            accumulator.append(lower_char)\n",
    "        else:\n",
    "            accumulator.append(char)\n",
    "    snake_case_colname = ''.join(accumulator)\n",
    "    return snake_case_colname"
   ]
  },
  {
   "cell_type": "code",
   "execution_count": 30,
   "metadata": {},
   "outputs": [],
   "source": [
    "train.columns = [camel_to_snake(col) for col in train.columns]\n",
    "test.columns = [camel_to_snake(col) for col in test.columns]"
   ]
  },
  {
   "cell_type": "code",
   "execution_count": 31,
   "metadata": {},
   "outputs": [
    {
     "data": {
      "text/html": [
       "<div>\n",
       "<style scoped>\n",
       "    .dataframe tbody tr th:only-of-type {\n",
       "        vertical-align: middle;\n",
       "    }\n",
       "\n",
       "    .dataframe tbody tr th {\n",
       "        vertical-align: top;\n",
       "    }\n",
       "\n",
       "    .dataframe thead th {\n",
       "        text-align: right;\n",
       "    }\n",
       "</style>\n",
       "<table border=\"1\" class=\"dataframe\">\n",
       "  <thead>\n",
       "    <tr style=\"text-align: right;\">\n",
       "      <th></th>\n",
       "      <th>passenger_id</th>\n",
       "      <th>survived</th>\n",
       "      <th>pclass</th>\n",
       "      <th>name</th>\n",
       "      <th>sex</th>\n",
       "      <th>age</th>\n",
       "      <th>sib_sp</th>\n",
       "      <th>parch</th>\n",
       "      <th>ticket</th>\n",
       "      <th>fare</th>\n",
       "      <th>cabin</th>\n",
       "      <th>embarked</th>\n",
       "    </tr>\n",
       "  </thead>\n",
       "  <tbody>\n",
       "    <tr>\n",
       "      <th>0</th>\n",
       "      <td>1</td>\n",
       "      <td>0</td>\n",
       "      <td>3</td>\n",
       "      <td>Braund, Mr. Owen Harris</td>\n",
       "      <td>male</td>\n",
       "      <td>22.0</td>\n",
       "      <td>1</td>\n",
       "      <td>0</td>\n",
       "      <td>A/5 21171</td>\n",
       "      <td>7.2500</td>\n",
       "      <td>NaN</td>\n",
       "      <td>S</td>\n",
       "    </tr>\n",
       "    <tr>\n",
       "      <th>1</th>\n",
       "      <td>2</td>\n",
       "      <td>1</td>\n",
       "      <td>1</td>\n",
       "      <td>Cumings, Mrs. John Bradley (Florence Briggs Th...</td>\n",
       "      <td>female</td>\n",
       "      <td>38.0</td>\n",
       "      <td>1</td>\n",
       "      <td>0</td>\n",
       "      <td>PC 17599</td>\n",
       "      <td>71.2833</td>\n",
       "      <td>C85</td>\n",
       "      <td>C</td>\n",
       "    </tr>\n",
       "    <tr>\n",
       "      <th>2</th>\n",
       "      <td>3</td>\n",
       "      <td>1</td>\n",
       "      <td>3</td>\n",
       "      <td>Heikkinen, Miss. Laina</td>\n",
       "      <td>female</td>\n",
       "      <td>26.0</td>\n",
       "      <td>0</td>\n",
       "      <td>0</td>\n",
       "      <td>STON/O2. 3101282</td>\n",
       "      <td>7.9250</td>\n",
       "      <td>NaN</td>\n",
       "      <td>S</td>\n",
       "    </tr>\n",
       "    <tr>\n",
       "      <th>3</th>\n",
       "      <td>4</td>\n",
       "      <td>1</td>\n",
       "      <td>1</td>\n",
       "      <td>Futrelle, Mrs. Jacques Heath (Lily May Peel)</td>\n",
       "      <td>female</td>\n",
       "      <td>35.0</td>\n",
       "      <td>1</td>\n",
       "      <td>0</td>\n",
       "      <td>113803</td>\n",
       "      <td>53.1000</td>\n",
       "      <td>C123</td>\n",
       "      <td>S</td>\n",
       "    </tr>\n",
       "    <tr>\n",
       "      <th>4</th>\n",
       "      <td>5</td>\n",
       "      <td>0</td>\n",
       "      <td>3</td>\n",
       "      <td>Allen, Mr. William Henry</td>\n",
       "      <td>male</td>\n",
       "      <td>35.0</td>\n",
       "      <td>0</td>\n",
       "      <td>0</td>\n",
       "      <td>373450</td>\n",
       "      <td>8.0500</td>\n",
       "      <td>NaN</td>\n",
       "      <td>S</td>\n",
       "    </tr>\n",
       "  </tbody>\n",
       "</table>\n",
       "</div>"
      ],
      "text/plain": [
       "   passenger_id  survived  pclass  \\\n",
       "0             1         0       3   \n",
       "1             2         1       1   \n",
       "2             3         1       3   \n",
       "3             4         1       1   \n",
       "4             5         0       3   \n",
       "\n",
       "                                                name     sex   age  sib_sp  \\\n",
       "0                            Braund, Mr. Owen Harris    male  22.0       1   \n",
       "1  Cumings, Mrs. John Bradley (Florence Briggs Th...  female  38.0       1   \n",
       "2                             Heikkinen, Miss. Laina  female  26.0       0   \n",
       "3       Futrelle, Mrs. Jacques Heath (Lily May Peel)  female  35.0       1   \n",
       "4                           Allen, Mr. William Henry    male  35.0       0   \n",
       "\n",
       "   parch            ticket     fare cabin embarked  \n",
       "0      0         A/5 21171   7.2500   NaN        S  \n",
       "1      0          PC 17599  71.2833   C85        C  \n",
       "2      0  STON/O2. 3101282   7.9250   NaN        S  \n",
       "3      0            113803  53.1000  C123        S  \n",
       "4      0            373450   8.0500   NaN        S  "
      ]
     },
     "execution_count": 31,
     "metadata": {},
     "output_type": "execute_result"
    }
   ],
   "source": [
    "train.head()"
   ]
  },
  {
   "cell_type": "code",
   "execution_count": 33,
   "metadata": {},
   "outputs": [
    {
     "name": "stdout",
     "output_type": "stream",
     "text": [
      "<class 'pandas.core.frame.DataFrame'>\n",
      "RangeIndex: 891 entries, 0 to 890\n",
      "Data columns (total 12 columns):\n",
      " #   Column        Non-Null Count  Dtype  \n",
      "---  ------        --------------  -----  \n",
      " 0   passenger_id  891 non-null    int64  \n",
      " 1   survived      891 non-null    int64  \n",
      " 2   pclass        891 non-null    int64  \n",
      " 3   name          891 non-null    object \n",
      " 4   sex           891 non-null    object \n",
      " 5   age           714 non-null    float64\n",
      " 6   sib_sp        891 non-null    int64  \n",
      " 7   parch         891 non-null    int64  \n",
      " 8   ticket        891 non-null    object \n",
      " 9   fare          891 non-null    float64\n",
      " 10  cabin         204 non-null    object \n",
      " 11  embarked      889 non-null    object \n",
      "dtypes: float64(2), int64(5), object(5)\n",
      "memory usage: 83.7+ KB\n"
     ]
    }
   ],
   "source": [
    "train.info()"
   ]
  },
  {
   "cell_type": "code",
   "execution_count": 97,
   "metadata": {},
   "outputs": [
    {
     "data": {
      "image/png": "[encoded data removed]",
      "text/plain": [
       "<Figure size 1008x720 with 9 Axes>"
      ]
     },
     "metadata": {
      "needs_background": "light"
     },
     "output_type": "display_data"
    }
   ],
   "source": [
    "numeric_cols = train.select_dtypes(include=[np.int64, np.float64]).columns\n",
    "\n",
    "ncols = 3\n",
    "nrows = math.floor(len(numeric_cols) / 3) + (1 * len(numeric_cols) % 3)\n",
    "fig, axs = plt.subplots(nrows, ncols, figsize=(14, 10))\n",
    "fig.suptitle('Histograms of Numeric Features', size=18)\n",
    "\n",
    "for i, col in enumerate(numeric_cols):\n",
    "    ax = axs.flatten()[i]\n",
    "    train[col].hist(ax=ax)\n",
    "    ax.set_title(col)\n",
    "    \n",
    "for i, ax in enumerate(axs.flatten()):\n",
    "    if i >= len(numeric_cols):\n",
    "        ax.axis(\"off\")\n",
    "\n",
    "plt.show();"
   ]
  },
  {
   "cell_type": "code",
   "execution_count": 96,
   "metadata": {
    "scrolled": false
   },
   "outputs": [
    {
     "data": {
      "image/png": "[encoded data removed]",
      "text/plain": [
       "<Figure size 1008x288 with 3 Axes>"
      ]
     },
     "metadata": {
      "needs_background": "light"
     },
     "output_type": "display_data"
    }
   ],
   "source": [
    "manually_exclude = [\"name\", \"ticket\"]  # Uq identifiers don't need a hist\n",
    "non_numeric_cols = train.select_dtypes(exclude=[np.int64, np.float64]).columns\n",
    "non_numeric_cols = [c for c in non_numeric_cols if c not in manually_exclude]\n",
    "\n",
    "ncols = 3\n",
    "nrows = math.floor(len(non_numeric_cols) / 3) + (1 * len(non_numeric_cols) % 3)\n",
    "fig, axs = plt.subplots(nrows, ncols, figsize=(14, 4))\n",
    "fig.suptitle('Histograms of Non-Numeric Features', size=18)\n",
    "\n",
    "for i, col in enumerate(non_numeric_cols):\n",
    "    ax = axs.flatten()[i]\n",
    "    train[col].hist(ax=ax)\n",
    "    ax.set_title(col)\n",
    "    \n",
    "for i, ax in enumerate(axs.flatten()):\n",
    "    if i >= len(non_numeric_cols):\n",
    "        ax.axis(\"off\")\n",
    "        \n",
    "plt.show();"
   ]
  },
  {
   "cell_type": "code",
   "execution_count": 143,
   "metadata": {},
   "outputs": [
    {
     "name": "stdout",
     "output_type": "stream",
     "text": [
      "<class 'pandas.core.frame.DataFrame'>\n",
      "RangeIndex: 891 entries, 0 to 890\n",
      "Data columns (total 12 columns):\n",
      " #   Column        Non-Null Count  Dtype  \n",
      "---  ------        --------------  -----  \n",
      " 0   passenger_id  891 non-null    int64  \n",
      " 1   survived      891 non-null    int64  \n",
      " 2   pclass        891 non-null    int64  \n",
      " 3   name          891 non-null    object \n",
      " 4   sex           891 non-null    object \n",
      " 5   age           714 non-null    float64\n",
      " 6   sib_sp        891 non-null    int64  \n",
      " 7   parch         891 non-null    int64  \n",
      " 8   ticket        891 non-null    object \n",
      " 9   fare          891 non-null    float64\n",
      " 10  cabin         204 non-null    object \n",
      " 11  embarked      889 non-null    object \n",
      "dtypes: float64(2), int64(5), object(5)\n",
      "memory usage: 83.7+ KB\n"
     ]
    }
   ],
   "source": [
    "train.info()"
   ]
  },
  {
   "cell_type": "code",
   "execution_count": 175,
   "metadata": {},
   "outputs": [],
   "source": [
    "target = \"survived\"\n",
    "too_many_nans = [\"cabin\"]\n",
    "uq_ids = [\"passenger_id\", \"ticket\", \"name\"]\n",
    "\n",
    "onehot = preprocessing.OneHotEncoder()\n",
    "imputer = impute.SimpleImputer(strategy=\"median\")\n",
    "scaler = preprocessing.StandardScaler()\n",
    "\n",
    "train_ = (train.drop(too_many_nans + uq_ids, axis=1)\n",
    "          .dropna(subset=[\"age\", \"embarked\"]))\n",
    "\n",
    "num_cols = [\"age\", \"fare\"]\n",
    "cat_cols = [\"pclass\", \"sex\", \"sib_sp\", \"parch\", \"embarked\"]\n",
    "\n",
    "col_trafo = compose.ColumnTransformer([\n",
    "    (\"num\", imputer, num_cols),\n",
    "    (\"cat\", onehot, cat_cols)\n",
    "])\n",
    "\n",
    "transformer_pipe = pipeline.Pipeline([\n",
    "    (\"col_trafo\", col_trafo),\n",
    "    (\"scaler\", scaler),\n",
    "])\n",
    "\n",
    "X_train = transformer_pipe.fit_transform(train_.drop(target, axis=1))\n",
    "y_train = train_[target]"
   ]
  },
  {
   "cell_type": "code",
   "execution_count": 200,
   "metadata": {
    "scrolled": true
   },
   "outputs": [
    {
     "name": "stdout",
     "output_type": "stream",
     "text": [
      "Fitting 3 folds for each of 198 candidates, totalling 594 fits\n"
     ]
    },
    {
     "name": "stderr",
     "output_type": "stream",
     "text": [
      "[Parallel(n_jobs=8)]: Using backend LokyBackend with 8 concurrent workers.\n",
      "[Parallel(n_jobs=8)]: Done   2 tasks      | elapsed:    0.0s\n",
      "[Parallel(n_jobs=8)]: Done 176 tasks      | elapsed:    0.3s\n"
     ]
    },
    {
     "name": "stdout",
     "output_type": "stream",
     "text": [
      "Grid Seach took 0.84 seconds\n",
      "Best model accuracy is: 78.24%\n"
     ]
    },
    {
     "name": "stderr",
     "output_type": "stream",
     "text": [
      "[Parallel(n_jobs=8)]: Done 562 tasks      | elapsed:    0.8s\n",
      "[Parallel(n_jobs=8)]: Done 594 out of 594 | elapsed:    0.8s finished\n"
     ]
    }
   ],
   "source": [
    "knn_clf = neighbors.KNeighborsClassifier(algorithm=\"auto\")\n",
    "param_grid = [\n",
    "    {\n",
    "        \"n_neighbors\": np.linspace(2, 100, num=99).astype(int),\n",
    "        \"weights\": [\"uniform\", \"distance\"],\n",
    "    }\n",
    "]\n",
    "cv = 3\n",
    "\n",
    "start = time.time()\n",
    "grid_search = model_selection.GridSearchCV(knn_clf, param_grid, cv=cv,\n",
    "                                           verbose=5, n_jobs=8, refit=True)\n",
    "grid_search.fit(X_train, y_train)\n",
    "end = time.time()\n",
    "print(f\"Grid Seach took {round(end-start, 2)} seconds\")\n",
    "print(f\"Best model accuracy is: {round(grid_search.best_score_*100, 2)}%\")"
   ]
  }
 ],
 "metadata": {
  "kernelspec": {
   "display_name": "homl",
   "language": "python",
   "name": "homl"
  },
  "language_info": {
   "codemirror_mode": {
    "name": "ipython",
    "version": 3
   },
   "file_extension": ".py",
   "mimetype": "text/x-python",
   "name": "python",
   "nbconvert_exporter": "python",
   "pygments_lexer": "ipython3",
   "version": "3.8.3"
  }
 },
 "nbformat": 4,
 "nbformat_minor": 4
}
