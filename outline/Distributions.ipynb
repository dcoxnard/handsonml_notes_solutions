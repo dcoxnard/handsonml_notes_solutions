{
 "cells": [
  {
   "cell_type": "code",
   "execution_count": 4,
   "metadata": {},
   "outputs": [],
   "source": [
    "from scipy import stats"
   ]
  },
  {
   "cell_type": "markdown",
   "metadata": {},
   "source": [
    "# Probability Distributions"
   ]
  },
  {
   "cell_type": "markdown",
   "metadata": {},
   "source": [
    "## Definitions\n",
    "\n",
    "- $E[X] = \\sum_{i \\in S}{P(X=i)*i}$\n",
    "- $Var[X] = E[X^2] - E[X]^2$\n",
    "- $\\binom{n}{k} = \\frac{n!}{k!(n-k)!}$"
   ]
  },
  {
   "cell_type": "markdown",
   "metadata": {},
   "source": [
    "## Bernoulli Distribution\n",
    "\n",
    "- A coin flip, weighted by parameter $p$\n",
    "    - Event space is $\\{0, 1\\}$\n",
    "    - Only one trial (repeated trials makes  Binomial Distribution)\n",
    "- $P(X=1) = p$, and its complement $P(X=0) = 1-p$\n",
    "- PMF is $f(x; p) = p^k (1-p)^{(1-k)}$\n",
    "- Mean (expected value) is $E[X] = p$\n",
    "- Variance is $Var[X] = pq = p(1-p)$"
   ]
  },
  {
   "cell_type": "code",
   "execution_count": 20,
   "metadata": {},
   "outputs": [
    {
     "name": "stdout",
     "output_type": "stream",
     "text": [
      "(p=0.75)  Mean: 0.75  Variance: 0.1875\n"
     ]
    }
   ],
   "source": [
    "rv = stats.bernoulli(p=0.75)\n",
    "mean, var = rv.stats(\"mv\")\n",
    "print(f\"(p=0.75)  Mean: {mean}  Variance: {var}\")"
   ]
  },
  {
   "cell_type": "code",
   "execution_count": 15,
   "metadata": {},
   "outputs": [
    {
     "name": "stdout",
     "output_type": "stream",
     "text": [
      "P(X==1) = 0.75  ;  P(X==0) = 0.25\n"
     ]
    }
   ],
   "source": [
    "prob_1 = rv.pmf(1)\n",
    "prob_0 = rv.pmf(0)\n",
    "print(f\"P(X==1) = {prob_1}  ;  P(X==0) = {prob_0}\")"
   ]
  },
  {
   "cell_type": "markdown",
   "metadata": {},
   "source": [
    "## Binomial Distribution\n",
    "\n",
    "- Repeated coin flips\n",
    "- Parameterized by $p$, the weight of the coin, and $n$, the number of flips\n",
    "    - $n \\in \\mathbb{N}$\n",
    "    - $p \\in \\{0, 1\\}$\n",
    "- PMF is $P(X=k ; n,p) = \\binom{n}{k}p^k(1-p)^{n-k}$\n",
    "    - Factor 2 is the probability of $k$ successes\n",
    "    - Factor 3 is the probability of $(n-k)$ failures\n",
    "    - Factor 1 counts the number of way those can be distributed\n",
    "- Mean is $E[X] = np$\n",
    "- Variance is $Var[X] = np(1-p)$, (i.e. n times a single Bernoulli trial)"
   ]
  },
  {
   "cell_type": "code",
   "execution_count": 30,
   "metadata": {},
   "outputs": [
    {
     "name": "stdout",
     "output_type": "stream",
     "text": [
      "(n=100,  p=0.5)   Mean: 50.0  Variance: 25.0    \n",
      "(n=1000, p=0.5)   Mean: 500.0  Variance: 250.0  # Increase n by 10x ==> mean, var up by 10x\n",
      "(n=100,  p=0.75)  Mean: 75.0  Variance: 18.75   # p higher than 0.5 ==> mean goes up, variance goes down\n"
     ]
    }
   ],
   "source": [
    "rv = stats.binom(n=100, p=0.5)\n",
    "mean, var = rv.stats(\"mv\")\n",
    "print(f\"(n=100,  p=0.5)   Mean: {mean}  Variance: {var}    \")\n",
    "\n",
    "rv = stats.binom(n=1000, p=0.5)\n",
    "mean, var = rv.stats(\"mv\")\n",
    "print(f\"(n=1000, p=0.5)   Mean: {mean}  Variance: {var}  # Increase n by 10x ==> mean, var up by 10x\")\n",
    "\n",
    "rv = stats.binom(n=100, p=0.75)\n",
    "mean, var = rv.stats(\"mv\")\n",
    "print(f\"(n=100,  p=0.75)  Mean: {mean}  Variance: {var}   # p higher than 0.5 ==> mean goes up, variance goes down\")"
   ]
  },
  {
   "cell_type": "markdown",
   "metadata": {},
   "source": [
    "The probability that a motorcycle with change lanes is 80%.  Suppose a random sample of 16 motorcycles are observed.  Find the probability that at least one motorcycle will change lanes.\n",
    "\n",
    "Source: https://www.youtube.com/watch?v=ftXp6t2znlY"
   ]
  },
  {
   "cell_type": "markdown",
   "metadata": {},
   "source": [
    "Strategy one: Analytic\n",
    "\n",
    "The probability that at least one motorcycle changes lanes is the complement of the probability that exactly 0 change lanes.  The problem can thus be simplified by finding $1 - P(X=0)$.\n",
    "\n",
    "$n = 16$\n",
    "\n",
    "$p = 0.8$\n",
    "\n",
    "$k = 0$\n",
    "\n",
    "$P(X=0) = \\binom{16}{0}(0.8)^{0}(0.2)^{16} = 1 * 1 * (0.2)^{16} = 6.5536e12$\n",
    "\n",
    "$P(X>0) = 1 - 6.5536e12 = 0.9999$"
   ]
  },
  {
   "cell_type": "markdown",
   "metadata": {},
   "source": [
    "Strategy two: Numeric"
   ]
  },
  {
   "cell_type": "code",
   "execution_count": 38,
   "metadata": {
    "scrolled": true
   },
   "outputs": [
    {
     "name": "stdout",
     "output_type": "stream",
     "text": [
      "The probability of at least one Motorcycle changing lanes is 0.9999999999934464\n"
     ]
    }
   ],
   "source": [
    "rv = stats.binom(n=16, p=0.80)\n",
    "prob_0 = rv.cdf(0)\n",
    "print(f\"The probability of at least one Motorcycle changing lanes is {1-prob_0}\")"
   ]
  },
  {
   "cell_type": "markdown",
   "metadata": {},
   "source": [
    "## Discrete Uniform Distribution\n",
    "\n",
    "- One throw of a fair die\n",
    "- All events in the space occur with equal probability\n",
    "- Often just parameterized short-hand with $n \\in \\mathbb{N}$ to specify the number of events\n",
    "- PMF is $P(X=x; n) = \\frac{1}{n}$\n",
    "- Mean is $E[X] = \\frac{n + 1}{2}$ or alternatively $\\frac{a + b}{2}$\n",
    "- Variance is $Var[X] = \\frac{n^2-1}{12}$"
   ]
  },
  {
   "cell_type": "code",
   "execution_count": 46,
   "metadata": {},
   "outputs": [
    {
     "name": "stdout",
     "output_type": "stream",
     "text": [
      "(n=6)   Mean: 3.0   Variance: 2.0\n",
      "(n=60)  Mean: 30.0  Variance: 290.0  # Increase n by 10x ==> mean up by 10x, variance up by >>10x\n"
     ]
    }
   ],
   "source": [
    "rv = stats.randint(low=1, high=6)\n",
    "mean, var = rv.stats(\"mv\")\n",
    "print(f\"(n=6)   Mean: {mean}   Variance: {var}\")\n",
    "\n",
    "rv = stats.randint(low=1, high=60)\n",
    "mean, var = rv.stats(\"mv\")\n",
    "print(f\"(n=60)  Mean: {mean}  Variance: {var}  # Increase n by 10x ==> mean up by 10x, variance up by >>10x\")"
   ]
  },
  {
   "cell_type": "markdown",
   "metadata": {},
   "source": [
    "## Multinomial Distribution\n",
    "\n",
    "- Repeated throws of a die\n",
    "- if $k$ is 6 as in a die, then PMF is $Pr(x_1, x_2 .. x_i; k_1, k_2 ... k_i) = M{x_i}p_1^{x_2}p_2^{x_2} ... p_i^{x_i}$\n",
    "    - M is the multinomial coefficient $\\frac{n!}{x_1!x_2!...x_{i-1}!}$\n",
    "- Mean is $E[X] = \\sum_{1}^{i}{np_i}$"
   ]
  },
  {
   "cell_type": "markdown",
   "metadata": {},
   "source": [
    "Sample problems: https://stattrek.com/probability-distributions/multinomial.aspx"
   ]
  }
 ],
 "metadata": {
  "kernelspec": {
   "display_name": "homl",
   "language": "python",
   "name": "homl"
  },
  "language_info": {
   "codemirror_mode": {
    "name": "ipython",
    "version": 3
   },
   "file_extension": ".py",
   "mimetype": "text/x-python",
   "name": "python",
   "nbconvert_exporter": "python",
   "pygments_lexer": "ipython3",
   "version": "3.6.10"
  }
 },
 "nbformat": 4,
 "nbformat_minor": 2
}
